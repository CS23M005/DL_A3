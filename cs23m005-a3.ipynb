{
 "cells": [
  {
   "cell_type": "code",
   "execution_count": 1,
   "id": "4eea8d0f",
   "metadata": {
    "execution": {
     "iopub.execute_input": "2024-05-16T10:30:13.003658Z",
     "iopub.status.busy": "2024-05-16T10:30:13.003375Z",
     "iopub.status.idle": "2024-05-16T10:30:20.678952Z",
     "shell.execute_reply": "2024-05-16T10:30:20.678001Z"
    },
    "papermill": {
     "duration": 7.685773,
     "end_time": "2024-05-16T10:30:20.681320",
     "exception": false,
     "start_time": "2024-05-16T10:30:12.995547",
     "status": "completed"
    },
    "tags": []
   },
   "outputs": [],
   "source": [
    "import torch\n",
    "import torch.nn as nn\n",
    "import torch.nn.functional as F\n",
    "import torchvision\n",
    "import torchvision.transforms as transforms\n",
    "import matplotlib.pyplot as plt\n",
    "import numpy as np\n",
    "\n",
    "from torchvision.datasets import ImageFolder\n",
    "import torchvision.transforms as transforms\n",
    "from torch.utils.data import Subset, DataLoader\n",
    "import torchvision\n",
    "from torch import optim\n",
    "from tqdm import tqdm\n",
    "from torch.utils.data import DataLoader\n",
    "from torchvision import datasets\n",
    "import torchvision.models as models\n",
    "\n",
    "import math\n",
    "\n",
    "device = torch.device('cuda' if torch.cuda.is_available() else 'cpu')"
   ]
  },
  {
   "cell_type": "code",
   "execution_count": 2,
   "id": "d8a99035",
   "metadata": {
    "execution": {
     "iopub.execute_input": "2024-05-16T10:30:20.695239Z",
     "iopub.status.busy": "2024-05-16T10:30:20.694670Z",
     "iopub.status.idle": "2024-05-16T10:30:20.707823Z",
     "shell.execute_reply": "2024-05-16T10:30:20.706908Z"
    },
    "papermill": {
     "duration": 0.022144,
     "end_time": "2024-05-16T10:30:20.709817",
     "exception": false,
     "start_time": "2024-05-16T10:30:20.687673",
     "status": "completed"
    },
    "tags": []
   },
   "outputs": [
    {
     "name": "stdout",
     "output_type": "stream",
     "text": [
      "['a', 'b', 'c', 'd', 'e', 'f', 'g', 'h', 'i', 'j', 'k', 'l', 'm', 'n', 'o', 'p', 'q', 'r', 's', 't', 'u', 'v', 'w', 'x', 'y', 'z', 'A', 'B', 'C', 'D', 'E', 'F', 'G', 'H', 'I', 'J', 'K', 'L', 'M', 'N', 'O', 'P', 'Q', 'R', 'S', 'T', 'U', 'V', 'W', 'X', 'Y', 'Z', '0', '1', '2', '3', '4', '5', '6', '7', '8', '9', '?', '<', '>']\n",
      "['ఀ', 'ఁ', 'ం', 'ః', 'ఄ', 'అ', 'ఆ', 'ఇ', 'ఈ', 'ఉ', 'ఊ', 'ఋ', 'ఌ', '\\u0c0d', 'ఎ', 'ఏ', 'ఐ', '\\u0c11', 'ఒ', 'ఓ', 'ఔ', 'క', 'ఖ', 'గ', 'ఘ', 'ఙ', 'చ', 'ఛ', 'జ', 'ఝ', 'ఞ', 'ట', 'ఠ', 'డ', 'ఢ', 'ణ', 'త', 'థ', 'ద', 'ధ', 'న', '\\u0c29', 'ప', 'ఫ', 'బ', 'భ', 'మ', 'య', 'ర', 'ఱ', 'ల', 'ళ', 'ఴ', 'వ', 'శ', 'ష', 'స', 'హ', '\\u0c3a', '\\u0c3b', '\\u0c3c', 'ఽ', 'ా', 'ి', 'ీ', 'ు', 'ూ', 'ృ', 'ౄ', '\\u0c45', 'ె', 'ే', 'ై', '\\u0c49', 'ొ', 'ో', 'ౌ', '్', '\\u0c4e', '\\u0c4f', '\\u0c50', '\\u0c51', '\\u0c52', '\\u0c53', '\\u0c54', 'ౕ', 'ౖ', '\\u0c57', 'ౘ', 'ౙ', 'ౚ', '\\u0c5b', '\\u0c5c', '\\u0c5d', '\\u0c5e', '\\u0c5f', 'ౠ', 'ౡ', 'ౢ', 'ౣ', '\\u0c64', '\\u0c65', '౦', '౧', '౨', '౩', '౪', '౫', '౬', '౭', '౮', '౯', '\\u0c70', '\\u0c71', '\\u0c72', '\\u0c73', '\\u0c74', '\\u0c75', '\\u0c76', '౷', '౸', '౹', '౺', '౻', '౼', '౽', '౾', '౿', '?', '<', '>']\n"
     ]
    }
   ],
   "source": [
    "eng_characters = [chr(i) for i in range(ord('a'), ord('z')+1)]  # English lowercase letters\n",
    "eng_characters += [chr(i) for i in range(ord('A'), ord('Z')+1)]  # English uppercase letters\n",
    "eng_characters += [chr(i) for i in range(ord('0'), ord('9')+1)]  # Digits\n",
    "eng_characters += ['?','<','>']\n",
    "# Add other characters as needed, such as punctuation marks, special symbols, etc.\n",
    "\n",
    "print(eng_characters)\n",
    "# Define the range of Unicode code points for Telugu characters\n",
    "TELUGU_START = 0x0C00\n",
    "TELUGU_END = 0x0C7F\n",
    "\n",
    "# Generate all Telugu characters\n",
    "telugu_characters = [chr(code_point) for code_point in range(TELUGU_START, TELUGU_END + 1)]\n",
    "telugu_characters += ['?','<','>']\n",
    "\n",
    "print(telugu_characters)\n",
    "\n"
   ]
  },
  {
   "cell_type": "code",
   "execution_count": 3,
   "id": "3ee43aa8",
   "metadata": {
    "_cell_guid": "b1076dfc-b9ad-4769-8c92-a6c4dae69d19",
    "_uuid": "8f2839f25d086af736a60e9eeb907d3b93b6e0e5",
    "execution": {
     "iopub.execute_input": "2024-05-16T10:30:20.722923Z",
     "iopub.status.busy": "2024-05-16T10:30:20.722655Z",
     "iopub.status.idle": "2024-05-16T10:30:21.687368Z",
     "shell.execute_reply": "2024-05-16T10:30:21.686591Z"
    },
    "papermill": {
     "duration": 0.973836,
     "end_time": "2024-05-16T10:30:21.689657",
     "exception": false,
     "start_time": "2024-05-16T10:30:20.715821",
     "status": "completed"
    },
    "tags": []
   },
   "outputs": [],
   "source": [
    "import pandas as pd\n",
    "import torch\n",
    "import torch.nn as nn\n",
    "import torch.optim as optim\n",
    "from torch.utils.data import DataLoader, TensorDataset\n",
    "\n",
    "train_file = '/kaggle/input/aksharantar2/aksharantar_sampled/tel/tel_train.csv'\n",
    "valid_file = '/kaggle/input/aksharantar2/aksharantar_sampled/tel/tel_valid.csv'\n",
    "# Load train and validation datasets\n",
    "\n",
    "# Load the datasets\n",
    "train_dataset = pd.read_csv(train_file, header=None)\n",
    "valid_dataset = pd.read_csv(valid_file, header=None)\n",
    "\n",
    "# Extract the source and target columns\n",
    "source_data = train_dataset.iloc[:, 0].values\n",
    "target_data = train_dataset.iloc[:, 1].values\n"
   ]
  },
  {
   "cell_type": "code",
   "execution_count": 4,
   "id": "8cf85ec2",
   "metadata": {
    "execution": {
     "iopub.execute_input": "2024-05-16T10:30:21.703727Z",
     "iopub.status.busy": "2024-05-16T10:30:21.703413Z",
     "iopub.status.idle": "2024-05-16T10:30:21.735268Z",
     "shell.execute_reply": "2024-05-16T10:30:21.734380Z"
    },
    "papermill": {
     "duration": 0.041105,
     "end_time": "2024-05-16T10:30:21.737362",
     "exception": false,
     "start_time": "2024-05-16T10:30:21.696257",
     "status": "completed"
    },
    "tags": []
   },
   "outputs": [],
   "source": [
    "source_data = ['<' + s + '>' for s in source_data]\n",
    "target_data = ['<' + t + '>' for t in target_data]"
   ]
  },
  {
   "cell_type": "code",
   "execution_count": 5,
   "id": "5b1edaf3",
   "metadata": {
    "execution": {
     "iopub.execute_input": "2024-05-16T10:30:21.750842Z",
     "iopub.status.busy": "2024-05-16T10:30:21.750548Z",
     "iopub.status.idle": "2024-05-16T10:30:21.800012Z",
     "shell.execute_reply": "2024-05-16T10:30:21.798986Z"
    },
    "papermill": {
     "duration": 0.05833,
     "end_time": "2024-05-16T10:30:21.801930",
     "exception": false,
     "start_time": "2024-05-16T10:30:21.743600",
     "status": "completed"
    },
    "tags": []
   },
   "outputs": [
    {
     "name": "stdout",
     "output_type": "stream",
     "text": [
      "vastadira\n",
      "tensor([21,  0, 18, 19,  0,  3,  8, 17,  0])\n",
      "వస్తాదిరా\n",
      "tensor([53, 56, 77, 36, 62, 38, 63, 48, 62])\n",
      "Characters: వస్తాదిరా\n"
     ]
    }
   ],
   "source": [
    "loc = 1\n",
    "e,t = train_dataset.iloc[loc]\n",
    "char_to_index_eng = {char: i for i, char in enumerate(eng_characters)}\n",
    "index_to_char_eng = {i: char for char, i in char_to_index_eng.items()}\n",
    "def char_to_tensor_eng(word, char_to_index_eng):\n",
    "    return torch.tensor([char_to_index_eng[char] for char in word], dtype=torch.long)\n",
    "\n",
    "print(e)\n",
    "print(char_to_tensor_eng(e,char_to_index_eng))\n",
    "\n",
    "char_to_index_tel = {char: i for i, char in enumerate(telugu_characters)}\n",
    "index_to_char_tel = {i: char for char, i in char_to_index_tel.items()}\n",
    "def char_to_tensor_tel(word, char_to_index_tel):\n",
    "    return torch.tensor([char_to_index_tel[char] for char in word], dtype=torch.long)\n",
    "\n",
    "print(t)\n",
    "t1 = char_to_tensor_tel(t,char_to_index_tel)\n",
    "print(t1)\n",
    "\n",
    "characters = [telugu_characters[char_int.item()] for char_int in t1]\n",
    "string = ''.join(characters)\n",
    "# Print the characters\n",
    "print(\"Characters:\", string)\n",
    "# for batch_idx, (data, target) in enumerate(train_loader):\n",
    "#     print(f\"Batch {batch_idx}:\")\n",
    "#     print(\"Data shape:\", data.shape)\n",
    "#     print(\"Target shape:\", target.shape)\n",
    "#     # You can print more details about the data and target if needed\n",
    "#     break  # This will break after printing the first batch"
   ]
  },
  {
   "cell_type": "code",
   "execution_count": 6,
   "id": "39d151c9",
   "metadata": {
    "execution": {
     "iopub.execute_input": "2024-05-16T10:30:21.815293Z",
     "iopub.status.busy": "2024-05-16T10:30:21.815025Z",
     "iopub.status.idle": "2024-05-16T10:30:22.944538Z",
     "shell.execute_reply": "2024-05-16T10:30:22.943718Z"
    },
    "papermill": {
     "duration": 1.138749,
     "end_time": "2024-05-16T10:30:22.946885",
     "exception": false,
     "start_time": "2024-05-16T10:30:21.808136",
     "status": "completed"
    },
    "tags": []
   },
   "outputs": [],
   "source": [
    "\n",
    "source = [char_to_tensor_eng(s, char_to_index_eng) for s in source_data]\n",
    "target = [char_to_tensor_tel(s, char_to_index_tel) for s in target_data]"
   ]
  },
  {
   "cell_type": "code",
   "execution_count": 7,
   "id": "57dce8c3",
   "metadata": {
    "execution": {
     "iopub.execute_input": "2024-05-16T10:30:22.961740Z",
     "iopub.status.busy": "2024-05-16T10:30:22.961386Z",
     "iopub.status.idle": "2024-05-16T10:30:23.400285Z",
     "shell.execute_reply": "2024-05-16T10:30:23.399207Z"
    },
    "papermill": {
     "duration": 0.449121,
     "end_time": "2024-05-16T10:30:23.402936",
     "exception": false,
     "start_time": "2024-05-16T10:30:22.953815",
     "status": "completed"
    },
    "tags": []
   },
   "outputs": [],
   "source": [
    "from torch.nn.utils.rnn import pad_sequence\n",
    "from torch.utils.data import TensorDataset\n",
    "# Pad the tensors to the same length\n",
    "source_padded = pad_sequence(source, batch_first=True, padding_value=62)\n",
    "target_padded = pad_sequence(target, batch_first=True, padding_value=128)\n",
    "\n",
    "# Find the maximum length\n",
    "max_length = max(source_padded.size(1), target_padded.size(1))\n",
    "\n",
    "# Pad source and target to the same length\n",
    "source_padded = torch.nn.functional.pad(source_padded, (0, max_length - source_padded.size(1)), value=62)\n",
    "target_padded = torch.nn.functional.pad(target_padded, (0, max_length - target_padded.size(1)), value=128)\n",
    "\n",
    "# Add 62 at the beginning and 63 at the end of each item in source_padded\n",
    "# source_padded = torch.cat((torch.full((source_padded.shape[0], 1), 63, dtype=torch.long), \n",
    "#                            source_padded, torch.full((source_padded.shape[0], 1), 64, dtype=torch.long)), dim=1)\n",
    "# target_padded = torch.cat((torch.full((target_padded.shape[0], 1), 129, dtype=torch.long), \n",
    "#                            target_padded, torch.full((target_padded.shape[0], 1), 130, dtype=torch.long)), dim=1)"
   ]
  },
  {
   "cell_type": "code",
   "execution_count": null,
   "id": "66ea062f",
   "metadata": {
    "papermill": {
     "duration": 0.006094,
     "end_time": "2024-05-16T10:30:23.416597",
     "exception": false,
     "start_time": "2024-05-16T10:30:23.410503",
     "status": "completed"
    },
    "tags": []
   },
   "outputs": [],
   "source": []
  },
  {
   "cell_type": "code",
   "execution_count": 8,
   "id": "8acc27a2",
   "metadata": {
    "execution": {
     "iopub.execute_input": "2024-05-16T10:30:23.429872Z",
     "iopub.status.busy": "2024-05-16T10:30:23.429523Z",
     "iopub.status.idle": "2024-05-16T10:30:23.437017Z",
     "shell.execute_reply": "2024-05-16T10:30:23.436163Z"
    },
    "papermill": {
     "duration": 0.01621,
     "end_time": "2024-05-16T10:30:23.438859",
     "exception": false,
     "start_time": "2024-05-16T10:30:23.422649",
     "status": "completed"
    },
    "tags": []
   },
   "outputs": [
    {
     "data": {
      "text/plain": [
       "tensor([129,  53,  48,  77,  23,  62,  50,  53,  62,  48,  63,  40,  71, 130,\n",
       "        128, 128, 128, 128, 128, 128, 128, 128, 128, 128, 128, 128, 128, 128,\n",
       "        128, 128])"
      ]
     },
     "execution_count": 8,
     "metadata": {},
     "output_type": "execute_result"
    }
   ],
   "source": [
    "target_padded[0]"
   ]
  },
  {
   "cell_type": "code",
   "execution_count": 9,
   "id": "f86997f8",
   "metadata": {
    "execution": {
     "iopub.execute_input": "2024-05-16T10:30:23.452321Z",
     "iopub.status.busy": "2024-05-16T10:30:23.452073Z",
     "iopub.status.idle": "2024-05-16T10:30:23.460087Z",
     "shell.execute_reply": "2024-05-16T10:30:23.459023Z"
    },
    "papermill": {
     "duration": 0.016955,
     "end_time": "2024-05-16T10:30:23.462042",
     "exception": false,
     "start_time": "2024-05-16T10:30:23.445087",
     "status": "completed"
    },
    "tags": []
   },
   "outputs": [
    {
     "name": "stdout",
     "output_type": "stream",
     "text": [
      "<vargaalavaarine>????????????? 30 : <వర్గాలవారినే>???????????????? 30 :\n"
     ]
    }
   ],
   "source": [
    "def t2p(s,t):\n",
    "    characters = [eng_characters[char_int.item()] for char_int in s]\n",
    "    string1 = ''.join(characters)\n",
    "#     print(string)\n",
    "    characters = [telugu_characters[char_int.item()] for char_int in t]\n",
    "    string2 = ''.join(characters)\n",
    "    print(f\"{string1} {len(string1)} : {string2} {len(string2)} :\")\n",
    "t2p(source_padded[0],target_padded[0])"
   ]
  },
  {
   "cell_type": "code",
   "execution_count": 10,
   "id": "46936bd7",
   "metadata": {
    "execution": {
     "iopub.execute_input": "2024-05-16T10:30:23.477246Z",
     "iopub.status.busy": "2024-05-16T10:30:23.476961Z",
     "iopub.status.idle": "2024-05-16T10:30:23.481452Z",
     "shell.execute_reply": "2024-05-16T10:30:23.480643Z"
    },
    "papermill": {
     "duration": 0.014294,
     "end_time": "2024-05-16T10:30:23.483351",
     "exception": false,
     "start_time": "2024-05-16T10:30:23.469057",
     "status": "completed"
    },
    "tags": []
   },
   "outputs": [],
   "source": [
    "# Create a TensorDataset\n",
    "dataset = TensorDataset(source_padded, target_padded)\n",
    "\n",
    "# Create a DataLoader\n",
    "# batch_size = 64\n",
    "def train_loader(batch_size):\n",
    "    train_dataloader = DataLoader(dataset, batch_size=batch_size, shuffle=True)\n",
    "    return train_dataloader\n",
    "\n"
   ]
  },
  {
   "cell_type": "code",
   "execution_count": 11,
   "id": "8307e4de",
   "metadata": {
    "execution": {
     "iopub.execute_input": "2024-05-16T10:30:23.497218Z",
     "iopub.status.busy": "2024-05-16T10:30:23.496931Z",
     "iopub.status.idle": "2024-05-16T10:30:23.642018Z",
     "shell.execute_reply": "2024-05-16T10:30:23.641048Z"
    },
    "papermill": {
     "duration": 0.154374,
     "end_time": "2024-05-16T10:30:23.644004",
     "exception": false,
     "start_time": "2024-05-16T10:30:23.489630",
     "status": "completed"
    },
    "tags": []
   },
   "outputs": [],
   "source": [
    "#valid_dataset = pd.read_csv(valid_file, header=None)\n",
    "\n",
    "# Extract the source and target columns\n",
    "val_source_data = valid_dataset.iloc[:, 0].values\n",
    "val_target_data = valid_dataset.iloc[:, 1].values\n",
    "\n",
    "val_source_data = ['<' + s + '>' for s in val_source_data]\n",
    "val_target_data = ['<' + t + '>' for t in val_target_data]\n",
    "\n",
    "val_source = [char_to_tensor_eng(s, char_to_index_eng) for s in val_source_data]\n",
    "val_target = [char_to_tensor_tel(s, char_to_index_tel) for s in val_target_data]\n",
    "\n",
    "val_source_padded = pad_sequence(val_source, batch_first=True, padding_value=62)\n",
    "val_target_padded = pad_sequence(val_target, batch_first=True, padding_value=128)\n",
    "\n",
    "# Find the maximum length\n",
    "max_length = max(val_source_padded.size(1), val_target_padded.size(1))\n",
    "\n",
    "# Pad source and target to the same length\n",
    "val_source_padded = torch.nn.functional.pad(val_source_padded, (0, max_length - val_source_padded.size(1)), value=62)\n",
    "val_target_padded = torch.nn.functional.pad(val_target_padded, (0, max_length - val_target_padded.size(1)), value=128)\n",
    "# Create a TensorDataset\n",
    "val_dataset = TensorDataset(val_source_padded, val_target_padded)\n",
    "\n",
    "def val_loader(batch_size):\n",
    "    valid_dataloader = DataLoader(val_dataset, batch_size=batch_size)\n",
    "    return valid_dataloader"
   ]
  },
  {
   "cell_type": "code",
   "execution_count": null,
   "id": "9f27f800",
   "metadata": {
    "papermill": {
     "duration": 0.006496,
     "end_time": "2024-05-16T10:30:23.656874",
     "exception": false,
     "start_time": "2024-05-16T10:30:23.650378",
     "status": "completed"
    },
    "tags": []
   },
   "outputs": [],
   "source": []
  },
  {
   "cell_type": "code",
   "execution_count": 12,
   "id": "4b11c695",
   "metadata": {
    "execution": {
     "iopub.execute_input": "2024-05-16T10:30:23.671654Z",
     "iopub.status.busy": "2024-05-16T10:30:23.671332Z",
     "iopub.status.idle": "2024-05-16T10:30:23.692467Z",
     "shell.execute_reply": "2024-05-16T10:30:23.691543Z"
    },
    "papermill": {
     "duration": 0.030226,
     "end_time": "2024-05-16T10:30:23.694359",
     "exception": false,
     "start_time": "2024-05-16T10:30:23.664133",
     "status": "completed"
    },
    "tags": []
   },
   "outputs": [],
   "source": [
    "class Encoder(nn.Module):\n",
    "    def __init__(self, input_size, embedding_size, hidden_size, num_layers, cell_type, batch_size, dropout_in):\n",
    "        super(Encoder, self).__init__()\n",
    "        self.hidden_size = hidden_size\n",
    "        self.num_layers = num_layers\n",
    "        self.batch_size = batch_size\n",
    "        self.cell_type = cell_type\n",
    "        self.embeddin_size = embedding_size\n",
    "        self.dropout_in = dropout_in\n",
    "        # Character embedding layer\n",
    "        self.embedding = nn.Embedding(input_size, embedding_size)\n",
    "        \n",
    "        # Encoder RNN\n",
    "        if cell_type == 'RNN':\n",
    "            self.rnn = nn.RNN(embedding_size, hidden_size, num_layers, dropout=dropout_in, batch_first=True)\n",
    "        elif cell_type == 'LSTM':\n",
    "            self.rnn = nn.LSTM(embedding_size, hidden_size, num_layers, dropout=dropout_in, batch_first=True)\n",
    "        elif cell_type == 'GRU':\n",
    "            self.rnn = nn.GRU(embedding_size, hidden_size, num_layers, dropout=dropout_in,  batch_first=True)\n",
    "        \n",
    "    def forward(self, x, hidden):\n",
    "        embedded = self.embedding(x)\n",
    "        # embedded shape: (seq_length:max_length, N(batch size:32), embedding_size:100)\n",
    "        output, hidden = self.rnn(embedded, hidden)\n",
    "        return hidden\n",
    "    \n",
    "    def getInitialState(self):\n",
    "        return torch.zeros(self.num_layers,self.batch_size,self.hidden_size).to(device)\n",
    "\n",
    "\n",
    "class Decoder(nn.Module):\n",
    "    def __init__(self, input_size, embedding_size, hidden_size, \n",
    "                 output_size, num_layers, cell_type, dropout_in):\n",
    "        super(Decoder, self).__init__()\n",
    "        self.hidden_size = hidden_size\n",
    "        self.num_layers = num_layers\n",
    "        self.cell_type = cell_type\n",
    "        self.embeddin_size = embedding_size\n",
    "        self.dropout_in = dropout_in\n",
    "        \n",
    "        # Devanagari character embedding layer\n",
    "        self.embedding = nn.Embedding(output_size, embedding_size)\n",
    "        \n",
    "        # Decoder RNN\n",
    "        if cell_type == 'RNN':\n",
    "            self.rnn = nn.RNN(embedding_size, hidden_size, num_layers, dropout=dropout_in, batch_first=True)\n",
    "        elif cell_type == 'LSTM':\n",
    "            self.rnn = nn.LSTM(embedding_size, hidden_size, num_layers, dropout=dropout_in, batch_first=True)\n",
    "        elif cell_type == 'GRU':\n",
    "            self.rnn = nn.GRU(embedding_size, hidden_size, num_layers, dropout=dropout_in,  batch_first=True)\n",
    "        \n",
    "        # Fully connected layer\n",
    "        self.fc = nn.Linear(hidden_size, output_size)\n",
    "        self.softmax = nn.LogSoftmax(dim=2)\n",
    "    \n",
    "    def forward(self, x, hidden):\n",
    "        # shape of x: (N) but required (1, N)\n",
    "#         x = x.unsqueeze(0)\n",
    "        \n",
    "        embedded = self.embedding(x)\n",
    "        # embedded shape: (1, N, embedding_size) #n * 1 * embd\n",
    "        output, hidden = self.rnn(embedded, hidden)  \n",
    "        # shape of outputs: (N*1*131)\n",
    "        predictions = self.softmax(self.fc(output))\n",
    "        # shape of predictionos:  (1, N, length of tel_char)\n",
    "#         predictions = predictions.squeeze(0)\n",
    "\n",
    "        \n",
    "        return predictions, hidden\n",
    "\n",
    "class Seq2Seq(nn.Module):\n",
    "    def __init__(self, encoder, decoder, cell_type):\n",
    "        super(Seq2Seq, self).__init__()\n",
    "        self.encoder = encoder\n",
    "        self.decoder = decoder\n",
    "        self.cell_type = cell_type\n",
    "    \n",
    "    def forward(self, source, target, teacher_forcing_ratio=0.5):\n",
    "        batch_size = source.shape[0]\n",
    "        target_len = target.shape[1]\n",
    "        target_letter_size = 131\n",
    "#         print(source.shape)\n",
    "#         print(target.shape)\n",
    "        \n",
    "        outputs = torch.zeros(target_len, batch_size, target_letter_size).to(device)\n",
    "        \n",
    "        # Encoder forward pass\n",
    "        if(self.cell_type == \"LSTM\"):\n",
    "            hidden = (self.encoder.getInitialState(), self.encoder.getInitialState())\n",
    "        else:\n",
    "            hidden = self.encoder.getInitialState()\n",
    "#         hidden.to(device)\n",
    "        hidden = self.encoder(source, hidden)\n",
    "        \n",
    "#         print(hidden.shape)\n",
    "        x = target[:,0].view(batch_size, 1)\n",
    "#         print( \"target :\",x.shape)\n",
    "#         print(x)\n",
    "        \n",
    "#         # Decoder initial hidden state\n",
    "#         decoder_hidden = encoder_hidden        \n",
    "#         # Decoder input (start token)\n",
    "#         decoder_input = torch.tensor([[SOS_token]] * batch_size)      \n",
    "        # Decoder forward pass\n",
    "    \n",
    "        for t in range(0, target_len):\n",
    "            output, hidden = self.decoder(x, hidden)\n",
    "            output = output[:, -1, :]\n",
    "            outputs[t] = output\n",
    "            best_guess = output.argmax(1)\n",
    "            best_guess = best_guess.view(batch_size, 1) \n",
    "            x = target[:,t].view(batch_size,1) if np.random.rand() < teacher_forcing_ratio else best_guess\n",
    "        \n",
    "        return outputs\n"
   ]
  },
  {
   "cell_type": "code",
   "execution_count": 13,
   "id": "4bd9873d",
   "metadata": {
    "execution": {
     "iopub.execute_input": "2024-05-16T10:30:23.707868Z",
     "iopub.status.busy": "2024-05-16T10:30:23.707609Z",
     "iopub.status.idle": "2024-05-16T10:30:23.713852Z",
     "shell.execute_reply": "2024-05-16T10:30:23.712924Z"
    },
    "papermill": {
     "duration": 0.015211,
     "end_time": "2024-05-16T10:30:23.715776",
     "exception": false,
     "start_time": "2024-05-16T10:30:23.700565",
     "status": "completed"
    },
    "tags": []
   },
   "outputs": [
    {
     "name": "stdout",
     "output_type": "stream",
     "text": [
      "65\n"
     ]
    },
    {
     "data": {
      "text/plain": [
       "62"
      ]
     },
     "execution_count": 13,
     "metadata": {},
     "output_type": "execute_result"
    }
   ],
   "source": [
    "input_size = len(char_to_index_eng)\n",
    "print(input_size)\n",
    "char_to_index_eng['?']"
   ]
  },
  {
   "cell_type": "code",
   "execution_count": 14,
   "id": "7fe6b24c",
   "metadata": {
    "execution": {
     "iopub.execute_input": "2024-05-16T10:30:23.729852Z",
     "iopub.status.busy": "2024-05-16T10:30:23.729564Z",
     "iopub.status.idle": "2024-05-16T10:30:23.743801Z",
     "shell.execute_reply": "2024-05-16T10:30:23.742944Z"
    },
    "papermill": {
     "duration": 0.023441,
     "end_time": "2024-05-16T10:30:23.745671",
     "exception": false,
     "start_time": "2024-05-16T10:30:23.722230",
     "status": "completed"
    },
    "tags": []
   },
   "outputs": [],
   "source": [
    "# Define the model architecture\n",
    "input_size = len(char_to_index_eng)\n",
    "output_size = len(char_to_index_tel)\n",
    "# hidden_size = 256\n",
    "# embedding_size = 256\n",
    "# num_layers = 1\n",
    "# cell_type = 'LSTM'\n",
    "# LEARNING_RATE = 0.0001\n",
    "# NUM_EPOCHS = 10\n",
    "\n",
    "def train(hidden_size, embedding_size, \n",
    "          num_layers, cell_type, LEARNING_RATE, NUM_EPOCHS, batch_size, optimizer_in, dropout_in):\n",
    "\n",
    "    train_dataloader = train_loader(batch_size)\n",
    "    valid_dataloader = val_loader(batch_size)\n",
    "    encoder_net = Encoder(input_size, embedding_size, hidden_size, num_layers, cell_type, batch_size, dropout_in).to(device)\n",
    "    decoder_net = Decoder(output_size, embedding_size, hidden_size, \n",
    "                     output_size, num_layers, cell_type, dropout_in).to(device)\n",
    "    model = Seq2Seq(encoder_net, decoder_net, cell_type).to(device)\n",
    "\n",
    "    criterion = nn.NLLLoss()\n",
    "    if(optimizer_in == 'adam'):\n",
    "        optimizer = optim.Adam(model.parameters(), lr=LEARNING_RATE)\n",
    "    else:\n",
    "        optimizer = optim.NAdam(model.parameters(), lr=LEARNING_RATE)\n",
    "\n",
    "    step = 0\n",
    "    # Train the model\n",
    "    for epoch in range(NUM_EPOCHS):\n",
    "        model.train()\n",
    "        total_loss = 0\n",
    "        accuracy = 0\n",
    "        for batchid,(inp_data,target) in enumerate(tqdm(train_dataloader)):\n",
    "            inp_data = inp_data.to(device)\n",
    "            target = target.to(device)\n",
    "\n",
    "            output = model(inp_data, target)\n",
    "            indices = output.argmax(2)\n",
    "\n",
    "            if(batchid==0):\n",
    "                t2p(inp_data[0],target[0])\n",
    "                t2p(inp_data[0],indices[:,0])\n",
    "\n",
    "            optimizer.zero_grad()\n",
    "            loss = 0\n",
    "            total_correct = 0\n",
    "            for i in range(output.shape[0]):\n",
    "                loss += criterion(output[i], target[:,i])\n",
    "                total_correct += ((indices[:, i] == target[i]).sum().item() == len(target[i]))\n",
    "            total_loss += loss.item()/ len(inp_data[0])\n",
    "            accuracy += total_correct/batch_size\n",
    "            # Backpropagation\n",
    "            loss.backward()\n",
    "            torch.nn.utils.clip_grad_norm_(model.parameters(),max_norm=1)\n",
    "            optimizer.step()\n",
    "            step+=1\n",
    "\n",
    "        train_loss = total_loss / len(train_dataloader)\n",
    "        train_accuracy = accuracy\n",
    "        validation_loss, validation_accuracy = calculate_validation_loss(model, criterion, valid_dataloader, batch_size)\n",
    "        \n",
    "        print(f\"Epoch {epoch+1}, Loss: {total_loss / len(train_dataloader)}\")\n",
    "        print(\"train_acc\", train_accuracy)\n",
    "        print(\"train_loss\", train_loss)\n",
    "        print(\"valid_acc\", validation_accuracy)\n",
    "        print(\"valid_loss\", validation_loss)\n",
    "        \n",
    "        wandb.log({'train_accuracy':train_accuracy})\n",
    "        wandb.log({'train_loss':train_loss})\n",
    "        wandb.log({'val_accuracy':validation_accuracy})\n",
    "        wandb.log({'val_loss':validation_loss})\n"
   ]
  },
  {
   "cell_type": "code",
   "execution_count": 15,
   "id": "d866db6f",
   "metadata": {
    "execution": {
     "iopub.execute_input": "2024-05-16T10:30:23.759866Z",
     "iopub.status.busy": "2024-05-16T10:30:23.759627Z",
     "iopub.status.idle": "2024-05-16T10:30:23.768756Z",
     "shell.execute_reply": "2024-05-16T10:30:23.767864Z"
    },
    "papermill": {
     "duration": 0.018316,
     "end_time": "2024-05-16T10:30:23.770690",
     "exception": false,
     "start_time": "2024-05-16T10:30:23.752374",
     "status": "completed"
    },
    "tags": []
   },
   "outputs": [],
   "source": [
    "def calculate_validation_loss(model, criterion, valid_dataloader,batch_size):\n",
    "    model.eval()  # Set the model to evaluation mode\n",
    "    total_val_loss = 0\n",
    "    accuracy = 0\n",
    "    step = 0\n",
    "    with torch.no_grad():\n",
    "        for batchid,(inp_data,target) in enumerate(tqdm(valid_dataloader)):\n",
    "            inp_data = inp_data.to(device)\n",
    "            target = target.to(device)\n",
    "\n",
    "            output = model(inp_data, target)\n",
    "            indices = output.argmax(2)\n",
    "            output_dim = output.shape[-1]\n",
    "            if(batchid==0):\n",
    "                t2p(inp_data[0],target[0])\n",
    "                t2p(inp_data[0],indices[:,0])\n",
    "                print((indices[:,0] == target[0]).sum().item())\n",
    "\n",
    "            # Flatten the output and target tensors to compute the loss\n",
    "            val_loss = 0\n",
    "            total_correct = 0\n",
    "            for i in range(output.shape[0]):\n",
    "                val_loss += criterion(output[i], target[:, i])\n",
    "                total_correct += ((indices[:, i] == target[i]).sum().item() == len(target[i]))\n",
    "            step +=1\n",
    "            total_val_loss += val_loss.item() / len(inp_data[0])\n",
    "            accuracy += total_correct/batch_size\n",
    "\n",
    "    avg_val_loss = total_val_loss / len(valid_dataloader)\n",
    "    accuracy = accuracy #/ len(valid_dataloader)\n",
    "    return avg_val_loss, accuracy\n"
   ]
  },
  {
   "cell_type": "code",
   "execution_count": 16,
   "id": "842c6b5a",
   "metadata": {
    "execution": {
     "iopub.execute_input": "2024-05-16T10:30:23.784774Z",
     "iopub.status.busy": "2024-05-16T10:30:23.784478Z",
     "iopub.status.idle": "2024-05-16T10:30:23.788206Z",
     "shell.execute_reply": "2024-05-16T10:30:23.787236Z"
    },
    "papermill": {
     "duration": 0.013023,
     "end_time": "2024-05-16T10:30:23.790219",
     "exception": false,
     "start_time": "2024-05-16T10:30:23.777196",
     "status": "completed"
    },
    "tags": []
   },
   "outputs": [],
   "source": [
    "# train(hidden_size, embedding_size, \n",
    "#           num_layers, cell_type, LEARNING_RATE, NUM_EPOCHS)"
   ]
  },
  {
   "cell_type": "code",
   "execution_count": 17,
   "id": "b9d3efeb",
   "metadata": {
    "execution": {
     "iopub.execute_input": "2024-05-16T10:30:23.804668Z",
     "iopub.status.busy": "2024-05-16T10:30:23.803999Z",
     "iopub.status.idle": "2024-05-16T10:30:39.831024Z",
     "shell.execute_reply": "2024-05-16T10:30:39.830214Z"
    },
    "papermill": {
     "duration": 16.036177,
     "end_time": "2024-05-16T10:30:39.832915",
     "exception": false,
     "start_time": "2024-05-16T10:30:23.796738",
     "status": "completed"
    },
    "tags": []
   },
   "outputs": [
    {
     "name": "stdout",
     "output_type": "stream",
     "text": [
      "Requirement already satisfied: wandb in /opt/conda/lib/python3.10/site-packages (0.16.6)\r\n",
      "Requirement already satisfied: Click!=8.0.0,>=7.1 in /opt/conda/lib/python3.10/site-packages (from wandb) (8.1.7)\r\n",
      "Requirement already satisfied: GitPython!=3.1.29,>=1.0.0 in /opt/conda/lib/python3.10/site-packages (from wandb) (3.1.41)\r\n",
      "Requirement already satisfied: requests<3,>=2.0.0 in /opt/conda/lib/python3.10/site-packages (from wandb) (2.31.0)\r\n",
      "Requirement already satisfied: psutil>=5.0.0 in /opt/conda/lib/python3.10/site-packages (from wandb) (5.9.3)\r\n",
      "Requirement already satisfied: sentry-sdk>=1.0.0 in /opt/conda/lib/python3.10/site-packages (from wandb) (1.45.0)\r\n",
      "Requirement already satisfied: docker-pycreds>=0.4.0 in /opt/conda/lib/python3.10/site-packages (from wandb) (0.4.0)\r\n",
      "Requirement already satisfied: PyYAML in /opt/conda/lib/python3.10/site-packages (from wandb) (6.0.1)\r\n",
      "Requirement already satisfied: setproctitle in /opt/conda/lib/python3.10/site-packages (from wandb) (1.3.3)\r\n",
      "Requirement already satisfied: setuptools in /opt/conda/lib/python3.10/site-packages (from wandb) (69.0.3)\r\n",
      "Requirement already satisfied: appdirs>=1.4.3 in /opt/conda/lib/python3.10/site-packages (from wandb) (1.4.4)\r\n",
      "Requirement already satisfied: protobuf!=4.21.0,<5,>=3.19.0 in /opt/conda/lib/python3.10/site-packages (from wandb) (3.20.3)\r\n",
      "Requirement already satisfied: six>=1.4.0 in /opt/conda/lib/python3.10/site-packages (from docker-pycreds>=0.4.0->wandb) (1.16.0)\r\n",
      "Requirement already satisfied: gitdb<5,>=4.0.1 in /opt/conda/lib/python3.10/site-packages (from GitPython!=3.1.29,>=1.0.0->wandb) (4.0.11)\r\n",
      "Requirement already satisfied: charset-normalizer<4,>=2 in /opt/conda/lib/python3.10/site-packages (from requests<3,>=2.0.0->wandb) (3.3.2)\r\n",
      "Requirement already satisfied: idna<4,>=2.5 in /opt/conda/lib/python3.10/site-packages (from requests<3,>=2.0.0->wandb) (3.6)\r\n",
      "Requirement already satisfied: urllib3<3,>=1.21.1 in /opt/conda/lib/python3.10/site-packages (from requests<3,>=2.0.0->wandb) (1.26.18)\r\n",
      "Requirement already satisfied: certifi>=2017.4.17 in /opt/conda/lib/python3.10/site-packages (from requests<3,>=2.0.0->wandb) (2024.2.2)\r\n",
      "Requirement already satisfied: smmap<6,>=3.0.1 in /opt/conda/lib/python3.10/site-packages (from gitdb<5,>=4.0.1->GitPython!=3.1.29,>=1.0.0->wandb) (5.0.1)\r\n"
     ]
    },
    {
     "name": "stderr",
     "output_type": "stream",
     "text": [
      "\u001b[34m\u001b[1mwandb\u001b[0m: W&B API key is configured. Use \u001b[1m`wandb login --relogin`\u001b[0m to force relogin\n",
      "\u001b[34m\u001b[1mwandb\u001b[0m: \u001b[33mWARNING\u001b[0m If you're specifying your api key in code, ensure this code is not shared publicly.\n",
      "\u001b[34m\u001b[1mwandb\u001b[0m: \u001b[33mWARNING\u001b[0m Consider setting the WANDB_API_KEY environment variable, or running `wandb login` from the command line.\n",
      "\u001b[34m\u001b[1mwandb\u001b[0m: Appending key for api.wandb.ai to your netrc file: /root/.netrc\n"
     ]
    },
    {
     "data": {
      "text/plain": [
       "True"
      ]
     },
     "execution_count": 17,
     "metadata": {},
     "output_type": "execute_result"
    }
   ],
   "source": [
    "!pip install wandb\n",
    "import wandb\n",
    "wandb.login(key='4823cbdc22dd85ccb0f95f99ade210f09cb97abc')"
   ]
  },
  {
   "cell_type": "code",
   "execution_count": 18,
   "id": "e2e8459a",
   "metadata": {
    "execution": {
     "iopub.execute_input": "2024-05-16T10:30:39.848847Z",
     "iopub.status.busy": "2024-05-16T10:30:39.848532Z",
     "iopub.status.idle": "2024-05-16T10:53:36.746841Z",
     "shell.execute_reply": "2024-05-16T10:53:36.746003Z"
    },
    "papermill": {
     "duration": 1377.853803,
     "end_time": "2024-05-16T10:53:37.694173",
     "exception": false,
     "start_time": "2024-05-16T10:30:39.840370",
     "status": "completed"
    },
    "tags": []
   },
   "outputs": [
    {
     "name": "stdout",
     "output_type": "stream",
     "text": [
      "Create sweep with ID: qfkq9hc7\n",
      "Sweep URL: https://wandb.ai/cs23m005/Assignment3/sweeps/qfkq9hc7\n"
     ]
    },
    {
     "name": "stderr",
     "output_type": "stream",
     "text": [
      "\u001b[34m\u001b[1mwandb\u001b[0m: Agent Starting Run: x0vnxw4p with config:\n",
      "\u001b[34m\u001b[1mwandb\u001b[0m: \tbatch_size: 64\n",
      "\u001b[34m\u001b[1mwandb\u001b[0m: \tcell_type: LSTM\n",
      "\u001b[34m\u001b[1mwandb\u001b[0m: \tdropout_in: 0.5\n",
      "\u001b[34m\u001b[1mwandb\u001b[0m: \tembedding_size: 128\n",
      "\u001b[34m\u001b[1mwandb\u001b[0m: \thidden_size: 128\n",
      "\u001b[34m\u001b[1mwandb\u001b[0m: \tlearning_rate: 0.001\n",
      "\u001b[34m\u001b[1mwandb\u001b[0m: \tnum_epochs: 40\n",
      "\u001b[34m\u001b[1mwandb\u001b[0m: \tnum_layers: 1\n",
      "\u001b[34m\u001b[1mwandb\u001b[0m: \toptimizer: adam\n",
      "\u001b[34m\u001b[1mwandb\u001b[0m: Currently logged in as: \u001b[33mcs23m005\u001b[0m. Use \u001b[1m`wandb login --relogin`\u001b[0m to force relogin\n",
      "\u001b[34m\u001b[1mwandb\u001b[0m: \u001b[33mWARNING\u001b[0m Ignored wandb.init() arg project when running a sweep.\n",
      "\u001b[34m\u001b[1mwandb\u001b[0m: wandb version 0.17.0 is available!  To upgrade, please run:\n",
      "\u001b[34m\u001b[1mwandb\u001b[0m:  $ pip install wandb --upgrade\n",
      "\u001b[34m\u001b[1mwandb\u001b[0m: Tracking run with wandb version 0.16.6\n",
      "\u001b[34m\u001b[1mwandb\u001b[0m: Run data is saved locally in \u001b[35m\u001b[1m/kaggle/working/wandb/run-20240516_103041-x0vnxw4p\u001b[0m\n",
      "\u001b[34m\u001b[1mwandb\u001b[0m: Run \u001b[1m`wandb offline`\u001b[0m to turn off syncing.\n",
      "\u001b[34m\u001b[1mwandb\u001b[0m: Syncing run \u001b[33mcrisp-sweep-1\u001b[0m\n",
      "\u001b[34m\u001b[1mwandb\u001b[0m: ⭐️ View project at \u001b[34m\u001b[4mhttps://wandb.ai/cs23m005/Assignment3\u001b[0m\n",
      "\u001b[34m\u001b[1mwandb\u001b[0m: 🧹 View sweep at \u001b[34m\u001b[4mhttps://wandb.ai/cs23m005/Assignment3/sweeps/qfkq9hc7\u001b[0m\n",
      "\u001b[34m\u001b[1mwandb\u001b[0m: 🚀 View run at \u001b[34m\u001b[4mhttps://wandb.ai/cs23m005/Assignment3/runs/x0vnxw4p\u001b[0m\n",
      "\u001b[34m\u001b[1mwandb\u001b[0m: \u001b[33mWARNING\u001b[0m Ignored wandb.init() arg project when running a sweep.\n",
      "/opt/conda/lib/python3.10/site-packages/torch/nn/modules/rnn.py:82: UserWarning: dropout option adds dropout after all but last recurrent layer, so non-zero dropout expects num_layers greater than 1, but got dropout=0.5 and num_layers=1\n",
      "  warnings.warn(\"dropout option adds dropout after all but last \"\n",
      "  0%|          | 0/800 [00:00<?, ?it/s]"
     ]
    },
    {
     "name": "stdout",
     "output_type": "stream",
     "text": [
      "<udbhija>????????????????????? 30 : <ఉద్భిజ>?????????????????????? 30 :\n",
      "<udbhija>????????????????????? 30 : చక౑౑ఫ౥భభ౥ఄ౲౲౲౽౽పప౽పపప౽౽౽పప౽౲ఫప 30 :\n"
     ]
    },
    {
     "name": "stderr",
     "output_type": "stream",
     "text": [
      "100%|██████████| 800/800 [00:33<00:00, 23.67it/s]\n",
      " 19%|█▉        | 12/64 [00:00<00:00, 56.78it/s]"
     ]
    },
    {
     "name": "stdout",
     "output_type": "stream",
     "text": [
      "<bheeshmudini>???????????????? 30 : <భీష్ముడిని>?????????????????? 30 :\n",
      "<bheeshmudini>???????????????? 30 : <అంర్నింిని>?????????????????? 30 :\n",
      "24\n"
     ]
    },
    {
     "name": "stderr",
     "output_type": "stream",
     "text": [
      "100%|██████████| 64/64 [00:01<00:00, 58.92it/s]\n"
     ]
    },
    {
     "name": "stdout",
     "output_type": "stream",
     "text": [
      "Epoch 1, Loss: 1.1528470861911777\n",
      "train_acc 0.0\n",
      "train_loss 1.1528470861911777\n",
      "valid_acc 0.0\n",
      "valid_loss 0.76435363193353\n"
     ]
    },
    {
     "name": "stderr",
     "output_type": "stream",
     "text": [
      "  0%|          | 3/800 [00:00<00:33, 23.91it/s]"
     ]
    },
    {
     "name": "stdout",
     "output_type": "stream",
     "text": [
      "<bhupalan>???????????????????? 30 : <భూపాలన్>????????????????????? 30 :\n",
      "<bhupalan>???????????????????? 30 : <పాలలలు>>????????????????????? 30 :\n"
     ]
    },
    {
     "name": "stderr",
     "output_type": "stream",
     "text": [
      "100%|██████████| 800/800 [00:32<00:00, 24.70it/s]\n",
      "  9%|▉         | 6/64 [00:00<00:01, 55.78it/s]"
     ]
    },
    {
     "name": "stdout",
     "output_type": "stream",
     "text": [
      "<bheeshmudini>???????????????? 30 : <భీష్ముడిని>?????????????????? 30 :\n",
      "<bheeshmudini>???????????????? 30 : <మారుగునిిి>?????????????????? 30 :\n",
      "23\n"
     ]
    },
    {
     "name": "stderr",
     "output_type": "stream",
     "text": [
      "100%|██████████| 64/64 [00:01<00:00, 55.69it/s]\n"
     ]
    },
    {
     "name": "stdout",
     "output_type": "stream",
     "text": [
      "Epoch 2, Loss: 0.9050790998140973\n",
      "train_acc 0.078125\n",
      "train_loss 0.9050790998140973\n",
      "valid_acc 0.015625\n",
      "valid_loss 0.6679787129163742\n"
     ]
    },
    {
     "name": "stderr",
     "output_type": "stream",
     "text": [
      "  0%|          | 3/800 [00:00<00:34, 22.86it/s]"
     ]
    },
    {
     "name": "stdout",
     "output_type": "stream",
     "text": [
      "<kolponu>????????????????????? 30 : <కోల్పోను>???????????????????? 30 :\n",
      "<kolponu>????????????????????? 30 : <కొల్లున>????????????????????? 30 :\n"
     ]
    },
    {
     "name": "stderr",
     "output_type": "stream",
     "text": [
      "100%|██████████| 800/800 [00:32<00:00, 24.60it/s]\n",
      " 17%|█▋        | 11/64 [00:00<00:01, 51.25it/s]"
     ]
    },
    {
     "name": "stdout",
     "output_type": "stream",
     "text": [
      "<bheeshmudini>???????????????? 30 : <భీష్ముడిని>?????????????????? 30 :\n",
      "<bheeshmudini>???????????????? 30 : <సుక్రిడిని>?????????????????? 30 :\n",
      "25\n"
     ]
    },
    {
     "name": "stderr",
     "output_type": "stream",
     "text": [
      "100%|██████████| 64/64 [00:01<00:00, 56.24it/s]\n"
     ]
    },
    {
     "name": "stdout",
     "output_type": "stream",
     "text": [
      "Epoch 3, Loss: 0.7811055594285327\n",
      "train_acc 0.421875\n",
      "train_loss 0.7811055594285327\n",
      "valid_acc 0.296875\n",
      "valid_loss 0.5624272748827934\n"
     ]
    },
    {
     "name": "stderr",
     "output_type": "stream",
     "text": [
      "  0%|          | 3/800 [00:00<00:34, 23.42it/s]"
     ]
    },
    {
     "name": "stdout",
     "output_type": "stream",
     "text": [
      "<summons>????????????????????? 30 : <సమ్మాన్స్>??????????????????? 30 :\n",
      "<summons>????????????????????? 30 : <సంమమ్్్్్>??????????????????? 30 :\n"
     ]
    },
    {
     "name": "stderr",
     "output_type": "stream",
     "text": [
      "100%|██████████| 800/800 [00:33<00:00, 24.21it/s]\n",
      " 19%|█▉        | 12/64 [00:00<00:00, 57.89it/s]"
     ]
    },
    {
     "name": "stdout",
     "output_type": "stream",
     "text": [
      "<bheeshmudini>???????????????? 30 : <భీష్ముడిని>?????????????????? 30 :\n",
      "<bheeshmudini>???????????????? 30 : <కుష్రుడిని>?????????????????? 30 :\n",
      "27\n"
     ]
    },
    {
     "name": "stderr",
     "output_type": "stream",
     "text": [
      "100%|██████████| 64/64 [00:01<00:00, 57.42it/s]\n"
     ]
    },
    {
     "name": "stdout",
     "output_type": "stream",
     "text": [
      "Epoch 4, Loss: 0.6586772678295774\n",
      "train_acc 2.515625\n",
      "train_loss 0.6586772678295774\n",
      "valid_acc 0.890625\n",
      "valid_loss 0.4712696686387063\n"
     ]
    },
    {
     "name": "stderr",
     "output_type": "stream",
     "text": [
      "  0%|          | 3/800 [00:00<00:34, 22.86it/s]"
     ]
    },
    {
     "name": "stdout",
     "output_type": "stream",
     "text": [
      "<santalingeswaraswamy>???????? 30 : <శాంతలింగేశ్వరస్వామి>????????? 30 :\n",
      "<santalingeswaraswamy>???????? 30 : <సంమ్్్వి్స్్ర్్విిి>????????? 30 :\n"
     ]
    },
    {
     "name": "stderr",
     "output_type": "stream",
     "text": [
      "100%|██████████| 800/800 [00:32<00:00, 24.31it/s]\n",
      " 19%|█▉        | 12/64 [00:00<00:00, 57.03it/s]"
     ]
    },
    {
     "name": "stdout",
     "output_type": "stream",
     "text": [
      "<bheeshmudini>???????????????? 30 : <భీష్ముడిని>?????????????????? 30 :\n",
      "<bheeshmudini>???????????????? 30 : <భిముదిదిని>?????????????????? 30 :\n",
      "24\n"
     ]
    },
    {
     "name": "stderr",
     "output_type": "stream",
     "text": [
      "100%|██████████| 64/64 [00:01<00:00, 58.02it/s]\n"
     ]
    },
    {
     "name": "stdout",
     "output_type": "stream",
     "text": [
      "Epoch 5, Loss: 0.5680157278378808\n",
      "train_acc 8.421875\n",
      "train_loss 0.5680157278378808\n",
      "valid_acc 2.421875\n",
      "valid_loss 0.3992394114534059\n"
     ]
    },
    {
     "name": "stderr",
     "output_type": "stream",
     "text": [
      "  0%|          | 3/800 [00:00<00:35, 22.75it/s]"
     ]
    },
    {
     "name": "stdout",
     "output_type": "stream",
     "text": [
      "<sagavalante>????????????????? 30 : <సాగవలంటే>???????????????????? 30 :\n",
      "<sagavalante>????????????????? 30 : <దావాంతోే>???????????????????? 30 :\n"
     ]
    },
    {
     "name": "stderr",
     "output_type": "stream",
     "text": [
      "100%|██████████| 800/800 [00:32<00:00, 24.40it/s]\n",
      " 19%|█▉        | 12/64 [00:00<00:00, 57.33it/s]"
     ]
    },
    {
     "name": "stdout",
     "output_type": "stream",
     "text": [
      "<bheeshmudini>???????????????? 30 : <భీష్ముడిని>?????????????????? 30 :\n",
      "<bheeshmudini>???????????????? 30 : <భిమురెడిని>?????????????????? 30 :\n",
      "25\n"
     ]
    },
    {
     "name": "stderr",
     "output_type": "stream",
     "text": [
      "100%|██████████| 64/64 [00:01<00:00, 58.21it/s]\n"
     ]
    },
    {
     "name": "stdout",
     "output_type": "stream",
     "text": [
      "Epoch 6, Loss: 0.4916432516177498\n",
      "train_acc 20.140625\n",
      "train_loss 0.4916432516177498\n",
      "valid_acc 3.6875\n",
      "valid_loss 0.3498090614875158\n"
     ]
    },
    {
     "name": "stderr",
     "output_type": "stream",
     "text": [
      "  0%|          | 3/800 [00:00<00:33, 23.51it/s]"
     ]
    },
    {
     "name": "stdout",
     "output_type": "stream",
     "text": [
      "<cheppindoka>????????????????? 30 : <చెప్పిందొక>?????????????????? 30 :\n",
      "<cheppindoka>????????????????? 30 : <చెప్పిందకక>?????????????????? 30 :\n"
     ]
    },
    {
     "name": "stderr",
     "output_type": "stream",
     "text": [
      "100%|██████████| 800/800 [00:32<00:00, 24.54it/s]\n",
      "  9%|▉         | 6/64 [00:00<00:00, 59.92it/s]"
     ]
    },
    {
     "name": "stdout",
     "output_type": "stream",
     "text": [
      "<bheeshmudini>???????????????? 30 : <భీష్ముడిని>?????????????????? 30 :\n",
      "<bheeshmudini>???????????????? 30 : <భీక్రుడిని>?????????????????? 30 :\n",
      "28\n"
     ]
    },
    {
     "name": "stderr",
     "output_type": "stream",
     "text": [
      "100%|██████████| 64/64 [00:01<00:00, 58.60it/s]\n"
     ]
    },
    {
     "name": "stdout",
     "output_type": "stream",
     "text": [
      "Epoch 7, Loss: 0.43814236243565824\n",
      "train_acc 32.328125\n",
      "train_loss 0.43814236243565824\n",
      "valid_acc 4.953125\n",
      "valid_loss 0.31860541279117277\n"
     ]
    },
    {
     "name": "stderr",
     "output_type": "stream",
     "text": [
      "  0%|          | 3/800 [00:00<00:34, 22.84it/s]"
     ]
    },
    {
     "name": "stdout",
     "output_type": "stream",
     "text": [
      "<airman>?????????????????????? 30 : <ఎయిర్మన్>???????????????????? 30 :\n",
      "<airman>?????????????????????? 30 : <ఇహ్మమనన్>???????????????????? 30 :\n"
     ]
    },
    {
     "name": "stderr",
     "output_type": "stream",
     "text": [
      "100%|██████████| 800/800 [00:32<00:00, 24.62it/s]\n",
      " 19%|█▉        | 12/64 [00:00<00:00, 56.88it/s]"
     ]
    },
    {
     "name": "stdout",
     "output_type": "stream",
     "text": [
      "<bheeshmudini>???????????????? 30 : <భీష్ముడిని>?????????????????? 30 :\n",
      "<bheeshmudini>???????????????? 30 : <భీష్ముడిని>?????????????????? 30 :\n",
      "30\n"
     ]
    },
    {
     "name": "stderr",
     "output_type": "stream",
     "text": [
      "100%|██████████| 64/64 [00:01<00:00, 58.35it/s]\n"
     ]
    },
    {
     "name": "stdout",
     "output_type": "stream",
     "text": [
      "Epoch 8, Loss: 0.38925464902321466\n",
      "train_acc 45.546875\n",
      "train_loss 0.38925464902321466\n",
      "valid_acc 6.203125\n",
      "valid_loss 0.28435170948505406\n"
     ]
    },
    {
     "name": "stderr",
     "output_type": "stream",
     "text": [
      "  0%|          | 3/800 [00:00<00:36, 22.06it/s]"
     ]
    },
    {
     "name": "stdout",
     "output_type": "stream",
     "text": [
      "<jamununde>??????????????????? 30 : <జామునుండే>??????????????????? 30 :\n",
      "<jamununde>??????????????????? 30 : <జనమునుందే>??????????????????? 30 :\n"
     ]
    },
    {
     "name": "stderr",
     "output_type": "stream",
     "text": [
      "100%|██████████| 800/800 [00:32<00:00, 24.76it/s]\n",
      " 19%|█▉        | 12/64 [00:00<00:00, 57.37it/s]"
     ]
    },
    {
     "name": "stdout",
     "output_type": "stream",
     "text": [
      "<bheeshmudini>???????????????? 30 : <భీష్ముడిని>?????????????????? 30 :\n",
      "<bheeshmudini>???????????????? 30 : <భీష్డుమిని>?????????????????? 30 :\n",
      "28\n"
     ]
    },
    {
     "name": "stderr",
     "output_type": "stream",
     "text": [
      "100%|██████████| 64/64 [00:01<00:00, 58.81it/s]\n"
     ]
    },
    {
     "name": "stdout",
     "output_type": "stream",
     "text": [
      "Epoch 9, Loss: 0.35278656961520527\n",
      "train_acc 59.984375\n",
      "train_loss 0.35278656961520527\n",
      "valid_acc 7.15625\n",
      "valid_loss 0.2691145293414593\n"
     ]
    },
    {
     "name": "stderr",
     "output_type": "stream",
     "text": [
      "  0%|          | 3/800 [00:00<00:32, 24.26it/s]"
     ]
    },
    {
     "name": "stdout",
     "output_type": "stream",
     "text": [
      "<olbers>?????????????????????? 30 : <ఒల్బర్స్>???????????????????? 30 :\n",
      "<olbers>?????????????????????? 30 : <ఆల్బె్స్>???????????????????? 30 :\n"
     ]
    },
    {
     "name": "stderr",
     "output_type": "stream",
     "text": [
      "100%|██████████| 800/800 [00:32<00:00, 24.73it/s]\n",
      " 19%|█▉        | 12/64 [00:00<00:00, 57.39it/s]"
     ]
    },
    {
     "name": "stdout",
     "output_type": "stream",
     "text": [
      "<bheeshmudini>???????????????? 30 : <భీష్ముడిని>?????????????????? 30 :\n",
      "<bheeshmudini>???????????????? 30 : <భీష్డుడిని>?????????????????? 30 :\n",
      "29\n"
     ]
    },
    {
     "name": "stderr",
     "output_type": "stream",
     "text": [
      "100%|██████████| 64/64 [00:01<00:00, 54.42it/s]\n"
     ]
    },
    {
     "name": "stdout",
     "output_type": "stream",
     "text": [
      "Epoch 10, Loss: 0.3252645877997077\n",
      "train_acc 73.40625\n",
      "train_loss 0.3252645877997077\n",
      "valid_acc 7.4375\n",
      "valid_loss 0.2509667781492075\n"
     ]
    },
    {
     "name": "stderr",
     "output_type": "stream",
     "text": [
      "  0%|          | 3/800 [00:00<00:35, 22.44it/s]"
     ]
    },
    {
     "name": "stdout",
     "output_type": "stream",
     "text": [
      "<paschimaasiyaaku>???????????? 30 : <పశ్చిమాసియాకు>??????????????? 30 :\n",
      "<paschimaasiyaaku>???????????? 30 : <పస్చిమాశియాకు>??????????????? 30 :\n"
     ]
    },
    {
     "name": "stderr",
     "output_type": "stream",
     "text": [
      "100%|██████████| 800/800 [00:32<00:00, 24.74it/s]\n",
      " 19%|█▉        | 12/64 [00:00<00:00, 58.98it/s]"
     ]
    },
    {
     "name": "stdout",
     "output_type": "stream",
     "text": [
      "<bheeshmudini>???????????????? 30 : <భీష్ముడిని>?????????????????? 30 :\n",
      "<bheeshmudini>???????????????? 30 : <భీష్ముడిని>?????????????????? 30 :\n",
      "30\n"
     ]
    },
    {
     "name": "stderr",
     "output_type": "stream",
     "text": [
      "100%|██████████| 64/64 [00:01<00:00, 59.48it/s]\n"
     ]
    },
    {
     "name": "stdout",
     "output_type": "stream",
     "text": [
      "Epoch 11, Loss: 0.30216973588864016\n",
      "train_acc 84.375\n",
      "train_loss 0.30216973588864016\n",
      "valid_acc 8.25\n",
      "valid_loss 0.24263679484526313\n"
     ]
    },
    {
     "name": "stderr",
     "output_type": "stream",
     "text": [
      "  0%|          | 3/800 [00:00<00:34, 23.25it/s]"
     ]
    },
    {
     "name": "stdout",
     "output_type": "stream",
     "text": [
      "<cheekatidinamgaa>???????????? 30 : <చీకటిదినంగా>????????????????? 30 :\n",
      "<cheekatidinamgaa>???????????? 30 : <చీకటింింగగా>????????????????? 30 :\n"
     ]
    },
    {
     "name": "stderr",
     "output_type": "stream",
     "text": [
      "100%|██████████| 800/800 [00:32<00:00, 24.71it/s]\n",
      "  9%|▉         | 6/64 [00:00<00:01, 57.61it/s]"
     ]
    },
    {
     "name": "stdout",
     "output_type": "stream",
     "text": [
      "<bheeshmudini>???????????????? 30 : <భీష్ముడిని>?????????????????? 30 :\n",
      "<bheeshmudini>???????????????? 30 : <భీష్డుడిని>?????????????????? 30 :\n",
      "29\n"
     ]
    },
    {
     "name": "stderr",
     "output_type": "stream",
     "text": [
      "100%|██████████| 64/64 [00:01<00:00, 57.42it/s]\n"
     ]
    },
    {
     "name": "stdout",
     "output_type": "stream",
     "text": [
      "Epoch 12, Loss: 0.2865853370229403\n",
      "train_acc 90.9375\n",
      "train_loss 0.2865853370229403\n",
      "valid_acc 8.796875\n",
      "valid_loss 0.24148999825119985\n"
     ]
    },
    {
     "name": "stderr",
     "output_type": "stream",
     "text": [
      "  0%|          | 3/800 [00:00<00:33, 23.66it/s]"
     ]
    },
    {
     "name": "stdout",
     "output_type": "stream",
     "text": [
      "<vruttulannintini>???????????? 30 : <వృత్తులన్నింటినీ>???????????? 30 :\n",
      "<vruttulannintini>???????????? 30 : <వృత్తులనింంటినని>???????????? 30 :\n"
     ]
    },
    {
     "name": "stderr",
     "output_type": "stream",
     "text": [
      "100%|██████████| 800/800 [00:32<00:00, 24.76it/s]\n",
      "  9%|▉         | 6/64 [00:00<00:00, 58.58it/s]"
     ]
    },
    {
     "name": "stdout",
     "output_type": "stream",
     "text": [
      "<bheeshmudini>???????????????? 30 : <భీష్ముడిని>?????????????????? 30 :\n",
      "<bheeshmudini>???????????????? 30 : <భీక్ముడిని>?????????????????? 30 :\n",
      "29\n"
     ]
    },
    {
     "name": "stderr",
     "output_type": "stream",
     "text": [
      "100%|██████████| 64/64 [00:01<00:00, 57.60it/s]\n"
     ]
    },
    {
     "name": "stdout",
     "output_type": "stream",
     "text": [
      "Epoch 13, Loss: 0.27526940935850147\n",
      "train_acc 98.53125\n",
      "train_loss 0.27526940935850147\n",
      "valid_acc 9.359375\n",
      "valid_loss 0.22146211514870323\n"
     ]
    },
    {
     "name": "stderr",
     "output_type": "stream",
     "text": [
      "  0%|          | 3/800 [00:00<00:33, 23.80it/s]"
     ]
    },
    {
     "name": "stdout",
     "output_type": "stream",
     "text": [
      "<salahaaloni>????????????????? 30 : <సలహాలోని>???????????????????? 30 :\n",
      "<salahaaloni>????????????????? 30 : <సలహాలోని>???????????????????? 30 :\n"
     ]
    },
    {
     "name": "stderr",
     "output_type": "stream",
     "text": [
      "100%|██████████| 800/800 [00:32<00:00, 24.66it/s]\n",
      " 19%|█▉        | 12/64 [00:00<00:00, 57.68it/s]"
     ]
    },
    {
     "name": "stdout",
     "output_type": "stream",
     "text": [
      "<bheeshmudini>???????????????? 30 : <భీష్ముడిని>?????????????????? 30 :\n",
      "<bheeshmudini>???????????????? 30 : <భీసుమ్దిని>?????????????????? 30 :\n",
      "26\n"
     ]
    },
    {
     "name": "stderr",
     "output_type": "stream",
     "text": [
      "100%|██████████| 64/64 [00:01<00:00, 57.10it/s]\n"
     ]
    },
    {
     "name": "stdout",
     "output_type": "stream",
     "text": [
      "Epoch 14, Loss: 0.2613616910576821\n",
      "train_acc 105.578125\n",
      "train_loss 0.2613616910576821\n",
      "valid_acc 9.5\n",
      "valid_loss 0.21848450675606726\n"
     ]
    },
    {
     "name": "stderr",
     "output_type": "stream",
     "text": [
      "  0%|          | 3/800 [00:00<00:33, 24.01it/s]"
     ]
    },
    {
     "name": "stdout",
     "output_type": "stream",
     "text": [
      "<undeduku>???????????????????? 30 : <ఉండేదుకు>???????????????????? 30 :\n",
      "<undeduku>???????????????????? 30 : <ఉండేదుకు>???????????????????? 30 :\n"
     ]
    },
    {
     "name": "stderr",
     "output_type": "stream",
     "text": [
      "100%|██████████| 800/800 [00:32<00:00, 24.76it/s]\n",
      "  9%|▉         | 6/64 [00:00<00:01, 56.33it/s]"
     ]
    },
    {
     "name": "stdout",
     "output_type": "stream",
     "text": [
      "<bheeshmudini>???????????????? 30 : <భీష్ముడిని>?????????????????? 30 :\n",
      "<bheeshmudini>???????????????? 30 : <భీష్డుమిని>?????????????????? 30 :\n",
      "28\n"
     ]
    },
    {
     "name": "stderr",
     "output_type": "stream",
     "text": [
      "100%|██████████| 64/64 [00:01<00:00, 58.14it/s]\n"
     ]
    },
    {
     "name": "stdout",
     "output_type": "stream",
     "text": [
      "Epoch 15, Loss: 0.24822855062286073\n",
      "train_acc 112.265625\n",
      "train_loss 0.24822855062286073\n",
      "valid_acc 9.546875\n",
      "valid_loss 0.21984535853068038\n"
     ]
    },
    {
     "name": "stderr",
     "output_type": "stream",
     "text": [
      "  0%|          | 3/800 [00:00<00:32, 24.81it/s]"
     ]
    },
    {
     "name": "stdout",
     "output_type": "stream",
     "text": [
      "<perugadaaniki>??????????????? 30 : <పెరుగడానికి>????????????????? 30 :\n",
      "<perugadaaniki>??????????????? 30 : <పెరుగడానికి>????????????????? 30 :\n"
     ]
    },
    {
     "name": "stderr",
     "output_type": "stream",
     "text": [
      "100%|██████████| 800/800 [00:32<00:00, 24.59it/s]\n",
      " 19%|█▉        | 12/64 [00:00<00:00, 57.49it/s]"
     ]
    },
    {
     "name": "stdout",
     "output_type": "stream",
     "text": [
      "<bheeshmudini>???????????????? 30 : <భీష్ముడిని>?????????????????? 30 :\n",
      "<bheeshmudini>???????????????? 30 : <భీష్ముడిని>?????????????????? 30 :\n",
      "30\n"
     ]
    },
    {
     "name": "stderr",
     "output_type": "stream",
     "text": [
      "100%|██████████| 64/64 [00:01<00:00, 59.37it/s]\n"
     ]
    },
    {
     "name": "stdout",
     "output_type": "stream",
     "text": [
      "Epoch 16, Loss: 0.2384204454819363\n",
      "train_acc 119.328125\n",
      "train_loss 0.2384204454819363\n",
      "valid_acc 10.40625\n",
      "valid_loss 0.21085581729809447\n"
     ]
    },
    {
     "name": "stderr",
     "output_type": "stream",
     "text": [
      "  0%|          | 3/800 [00:00<00:33, 23.51it/s]"
     ]
    },
    {
     "name": "stdout",
     "output_type": "stream",
     "text": [
      "<averkeetho>?????????????????? 30 : <అవెర్కీతో>??????????????????? 30 :\n",
      "<averkeetho>?????????????????? 30 : <అవర్ీకేతో>??????????????????? 30 :\n"
     ]
    },
    {
     "name": "stderr",
     "output_type": "stream",
     "text": [
      "100%|██████████| 800/800 [00:32<00:00, 24.67it/s]\n",
      " 19%|█▉        | 12/64 [00:00<00:00, 58.36it/s]"
     ]
    },
    {
     "name": "stdout",
     "output_type": "stream",
     "text": [
      "<bheeshmudini>???????????????? 30 : <భీష్ముడిని>?????????????????? 30 :\n",
      "<bheeshmudini>???????????????? 30 : <భీష్ముడిని>?????????????????? 30 :\n",
      "30\n"
     ]
    },
    {
     "name": "stderr",
     "output_type": "stream",
     "text": [
      "100%|██████████| 64/64 [00:01<00:00, 51.75it/s]\n"
     ]
    },
    {
     "name": "stdout",
     "output_type": "stream",
     "text": [
      "Epoch 17, Loss: 0.2300265158514185\n",
      "train_acc 124.0\n",
      "train_loss 0.2300265158514185\n",
      "valid_acc 10.734375\n",
      "valid_loss 0.19884894726177063\n"
     ]
    },
    {
     "name": "stderr",
     "output_type": "stream",
     "text": [
      "  0%|          | 3/800 [00:00<00:34, 23.04it/s]"
     ]
    },
    {
     "name": "stdout",
     "output_type": "stream",
     "text": [
      "<aasayaalakosamo>????????????? 30 : <ఆశయాలకోసమో>?????????????????? 30 :\n",
      "<aasayaalakosamo>????????????? 30 : <ఆశయాలకోసమో>?????????????????? 30 :\n"
     ]
    },
    {
     "name": "stderr",
     "output_type": "stream",
     "text": [
      "100%|██████████| 800/800 [00:32<00:00, 24.74it/s]\n",
      " 19%|█▉        | 12/64 [00:00<00:00, 58.13it/s]"
     ]
    },
    {
     "name": "stdout",
     "output_type": "stream",
     "text": [
      "<bheeshmudini>???????????????? 30 : <భీష్ముడిని>?????????????????? 30 :\n",
      "<bheeshmudini>???????????????? 30 : <భీష్ముడిని>?????????????????? 30 :\n",
      "30\n"
     ]
    },
    {
     "name": "stderr",
     "output_type": "stream",
     "text": [
      "100%|██████████| 64/64 [00:01<00:00, 57.86it/s]\n"
     ]
    },
    {
     "name": "stdout",
     "output_type": "stream",
     "text": [
      "Epoch 18, Loss: 0.22082955036560686\n",
      "train_acc 130.03125\n",
      "train_loss 0.22082955036560686\n",
      "valid_acc 10.453125\n",
      "valid_loss 0.20342110221584647\n"
     ]
    },
    {
     "name": "stderr",
     "output_type": "stream",
     "text": [
      "  0%|          | 3/800 [00:00<00:33, 23.75it/s]"
     ]
    },
    {
     "name": "stdout",
     "output_type": "stream",
     "text": [
      "<developmental>??????????????? 30 : <డెవలప్మెంటల్>???????????????? 30 :\n",
      "<developmental>??????????????? 30 : <డెవె్్మెంట్్లా??????????????? 30 :\n"
     ]
    },
    {
     "name": "stderr",
     "output_type": "stream",
     "text": [
      "100%|██████████| 800/800 [00:32<00:00, 24.67it/s]\n",
      "  9%|▉         | 6/64 [00:00<00:00, 59.05it/s]"
     ]
    },
    {
     "name": "stdout",
     "output_type": "stream",
     "text": [
      "<bheeshmudini>???????????????? 30 : <భీష్ముడిని>?????????????????? 30 :\n",
      "<bheeshmudini>???????????????? 30 : <భీష్ముడిని>?????????????????? 30 :\n",
      "30\n"
     ]
    },
    {
     "name": "stderr",
     "output_type": "stream",
     "text": [
      "100%|██████████| 64/64 [00:01<00:00, 59.01it/s]\n"
     ]
    },
    {
     "name": "stdout",
     "output_type": "stream",
     "text": [
      "Epoch 19, Loss: 0.21587308642268221\n",
      "train_acc 132.703125\n",
      "train_loss 0.21587308642268221\n",
      "valid_acc 10.921875\n",
      "valid_loss 0.19013966781397662\n"
     ]
    },
    {
     "name": "stderr",
     "output_type": "stream",
     "text": [
      "  0%|          | 3/800 [00:00<00:33, 23.75it/s]"
     ]
    },
    {
     "name": "stdout",
     "output_type": "stream",
     "text": [
      "<gunjevaru>??????????????????? 30 : <గుంజేవారు>??????????????????? 30 :\n",
      "<gunjevaru>??????????????????? 30 : <గుంజేవారు>??????????????????? 30 :\n"
     ]
    },
    {
     "name": "stderr",
     "output_type": "stream",
     "text": [
      "100%|██████████| 800/800 [00:32<00:00, 24.58it/s]\n",
      " 19%|█▉        | 12/64 [00:00<00:00, 57.31it/s]"
     ]
    },
    {
     "name": "stdout",
     "output_type": "stream",
     "text": [
      "<bheeshmudini>???????????????? 30 : <భీష్ముడిని>?????????????????? 30 :\n",
      "<bheeshmudini>???????????????? 30 : <భీష్ముడిని>?????????????????? 30 :\n",
      "30\n"
     ]
    },
    {
     "name": "stderr",
     "output_type": "stream",
     "text": [
      "100%|██████████| 64/64 [00:01<00:00, 58.49it/s]\n"
     ]
    },
    {
     "name": "stdout",
     "output_type": "stream",
     "text": [
      "Epoch 20, Loss: 0.20741933818658173\n",
      "train_acc 137.484375\n",
      "train_loss 0.20741933818658173\n",
      "valid_acc 11.4375\n",
      "valid_loss 0.20162626691162588\n"
     ]
    },
    {
     "name": "stderr",
     "output_type": "stream",
     "text": [
      "  0%|          | 3/800 [00:00<00:32, 24.24it/s]"
     ]
    },
    {
     "name": "stdout",
     "output_type": "stream",
     "text": [
      "<idekkate>???????????????????? 30 : <ఇదెక్కటే>???????????????????? 30 :\n",
      "<idekkate>???????????????????? 30 : <ఇదెక్కటే>???????????????????? 30 :\n"
     ]
    },
    {
     "name": "stderr",
     "output_type": "stream",
     "text": [
      "100%|██████████| 800/800 [00:32<00:00, 24.26it/s]\n",
      " 19%|█▉        | 12/64 [00:00<00:00, 58.06it/s]"
     ]
    },
    {
     "name": "stdout",
     "output_type": "stream",
     "text": [
      "<bheeshmudini>???????????????? 30 : <భీష్ముడిని>?????????????????? 30 :\n",
      "<bheeshmudini>???????????????? 30 : <భీష్ముడిని>?????????????????? 30 :\n",
      "30\n"
     ]
    },
    {
     "name": "stderr",
     "output_type": "stream",
     "text": [
      "100%|██████████| 64/64 [00:01<00:00, 57.57it/s]\n"
     ]
    },
    {
     "name": "stdout",
     "output_type": "stream",
     "text": [
      "Epoch 21, Loss: 0.20450806603829094\n",
      "train_acc 141.109375\n",
      "train_loss 0.20450806603829094\n",
      "valid_acc 11.328125\n",
      "valid_loss 0.19509269992510478\n"
     ]
    },
    {
     "name": "stderr",
     "output_type": "stream",
     "text": [
      "  0%|          | 3/800 [00:00<00:34, 23.35it/s]"
     ]
    },
    {
     "name": "stdout",
     "output_type": "stream",
     "text": [
      "<neemar>?????????????????????? 30 : <నీమర్>??????????????????????? 30 :\n",
      "<neemar>?????????????????????? 30 : <నీమర్>??????????????????????? 30 :\n"
     ]
    },
    {
     "name": "stderr",
     "output_type": "stream",
     "text": [
      "100%|██████████| 800/800 [00:33<00:00, 23.75it/s]\n",
      "  9%|▉         | 6/64 [00:00<00:00, 58.58it/s]"
     ]
    },
    {
     "name": "stdout",
     "output_type": "stream",
     "text": [
      "<bheeshmudini>???????????????? 30 : <భీష్ముడిని>?????????????????? 30 :\n",
      "<bheeshmudini>???????????????? 30 : <భీష్ముడిని>?????????????????? 30 :\n",
      "30\n"
     ]
    },
    {
     "name": "stderr",
     "output_type": "stream",
     "text": [
      "100%|██████████| 64/64 [00:01<00:00, 57.78it/s]\n"
     ]
    },
    {
     "name": "stdout",
     "output_type": "stream",
     "text": [
      "Epoch 22, Loss: 0.20139000240961735\n",
      "train_acc 143.46875\n",
      "train_loss 0.20139000240961735\n",
      "valid_acc 11.34375\n",
      "valid_loss 0.19261876866221425\n"
     ]
    },
    {
     "name": "stderr",
     "output_type": "stream",
     "text": [
      "  0%|          | 3/800 [00:00<00:34, 23.32it/s]"
     ]
    },
    {
     "name": "stdout",
     "output_type": "stream",
     "text": [
      "<prachaaramtoonoo>???????????? 30 : <ప్రచారంతోనో>????????????????? 30 :\n",
      "<prachaaramtoonoo>???????????? 30 : <ప్రచారంతోనూ>????????????????? 30 :\n"
     ]
    },
    {
     "name": "stderr",
     "output_type": "stream",
     "text": [
      "100%|██████████| 800/800 [00:33<00:00, 24.00it/s]\n",
      "  9%|▉         | 6/64 [00:00<00:01, 54.99it/s]"
     ]
    },
    {
     "name": "stdout",
     "output_type": "stream",
     "text": [
      "<bheeshmudini>???????????????? 30 : <భీష్ముడిని>?????????????????? 30 :\n",
      "<bheeshmudini>???????????????? 30 : <భీష్ముడిని>?????????????????? 30 :\n",
      "30\n"
     ]
    },
    {
     "name": "stderr",
     "output_type": "stream",
     "text": [
      "100%|██████████| 64/64 [00:01<00:00, 56.97it/s]\n"
     ]
    },
    {
     "name": "stdout",
     "output_type": "stream",
     "text": [
      "Epoch 23, Loss: 0.1934629723827042\n",
      "train_acc 148.65625\n",
      "train_loss 0.1934629723827042\n",
      "valid_acc 11.59375\n",
      "valid_loss 0.18978097351888817\n"
     ]
    },
    {
     "name": "stderr",
     "output_type": "stream",
     "text": [
      "  0%|          | 3/800 [00:00<00:34, 22.85it/s]"
     ]
    },
    {
     "name": "stdout",
     "output_type": "stream",
     "text": [
      "<kakaina>????????????????????? 30 : <కాకైనా>?????????????????????? 30 :\n",
      "<kakaina>????????????????????? 30 : <కాకైనా>?????????????????????? 30 :\n"
     ]
    },
    {
     "name": "stderr",
     "output_type": "stream",
     "text": [
      "100%|██████████| 800/800 [00:33<00:00, 24.12it/s]\n",
      " 19%|█▉        | 12/64 [00:00<00:00, 57.47it/s]"
     ]
    },
    {
     "name": "stdout",
     "output_type": "stream",
     "text": [
      "<bheeshmudini>???????????????? 30 : <భీష్ముడిని>?????????????????? 30 :\n",
      "<bheeshmudini>???????????????? 30 : <భీష్ముడిని>?????????????????? 30 :\n",
      "30\n"
     ]
    },
    {
     "name": "stderr",
     "output_type": "stream",
     "text": [
      "100%|██████████| 64/64 [00:01<00:00, 57.05it/s]\n"
     ]
    },
    {
     "name": "stdout",
     "output_type": "stream",
     "text": [
      "Epoch 24, Loss: 0.19033624101678526\n",
      "train_acc 151.40625\n",
      "train_loss 0.19033624101678526\n",
      "valid_acc 11.921875\n",
      "valid_loss 0.19143339234093823\n"
     ]
    },
    {
     "name": "stderr",
     "output_type": "stream",
     "text": [
      "  0%|          | 3/800 [00:00<00:33, 23.93it/s]"
     ]
    },
    {
     "name": "stdout",
     "output_type": "stream",
     "text": [
      "<pregnint>???????????????????? 30 : <ప్రెగ్నింట్>????????????????? 30 :\n",
      "<pregnint>???????????????????? 30 : <ప్రెగ్నింట్>????????????????? 30 :\n"
     ]
    },
    {
     "name": "stderr",
     "output_type": "stream",
     "text": [
      "100%|██████████| 800/800 [00:33<00:00, 24.05it/s]\n",
      " 19%|█▉        | 12/64 [00:00<00:00, 57.15it/s]"
     ]
    },
    {
     "name": "stdout",
     "output_type": "stream",
     "text": [
      "<bheeshmudini>???????????????? 30 : <భీష్ముడిని>?????????????????? 30 :\n",
      "<bheeshmudini>???????????????? 30 : <భీష్ముడిని>?????????????????? 30 :\n",
      "30\n"
     ]
    },
    {
     "name": "stderr",
     "output_type": "stream",
     "text": [
      "100%|██████████| 64/64 [00:01<00:00, 57.90it/s]\n"
     ]
    },
    {
     "name": "stdout",
     "output_type": "stream",
     "text": [
      "Epoch 25, Loss: 0.18576874213417358\n",
      "train_acc 153.171875\n",
      "train_loss 0.18576874213417358\n",
      "valid_acc 11.578125\n",
      "valid_loss 0.19652364104986195\n"
     ]
    },
    {
     "name": "stderr",
     "output_type": "stream",
     "text": [
      "  0%|          | 3/800 [00:00<00:33, 23.98it/s]"
     ]
    },
    {
     "name": "stdout",
     "output_type": "stream",
     "text": [
      "<punaadulavutaayi>???????????? 30 : <పునాదులవుతాయి>??????????????? 30 :\n",
      "<punaadulavutaayi>???????????? 30 : <పునాడులవుతాయి>??????????????? 30 :\n"
     ]
    },
    {
     "name": "stderr",
     "output_type": "stream",
     "text": [
      "100%|██████████| 800/800 [00:32<00:00, 24.51it/s]\n",
      " 19%|█▉        | 12/64 [00:00<00:00, 58.11it/s]"
     ]
    },
    {
     "name": "stdout",
     "output_type": "stream",
     "text": [
      "<bheeshmudini>???????????????? 30 : <భీష్ముడిని>?????????????????? 30 :\n",
      "<bheeshmudini>???????????????? 30 : <భీష్ముడిని>?????????????????? 30 :\n",
      "30\n"
     ]
    },
    {
     "name": "stderr",
     "output_type": "stream",
     "text": [
      "100%|██████████| 64/64 [00:01<00:00, 58.35it/s]\n"
     ]
    },
    {
     "name": "stdout",
     "output_type": "stream",
     "text": [
      "Epoch 26, Loss: 0.18128183739384002\n",
      "train_acc 157.15625\n",
      "train_loss 0.18128183739384002\n",
      "valid_acc 12.15625\n",
      "valid_loss 0.18591706864535815\n"
     ]
    },
    {
     "name": "stderr",
     "output_type": "stream",
     "text": [
      "  0%|          | 3/800 [00:00<00:34, 23.40it/s]"
     ]
    },
    {
     "name": "stdout",
     "output_type": "stream",
     "text": [
      "<shootingulundevi>???????????? 30 : <షూటింగులుండేవి>?????????????? 30 :\n",
      "<shootingulundevi>???????????? 30 : <శూటింగులుండేవి>?????????????? 30 :\n"
     ]
    },
    {
     "name": "stderr",
     "output_type": "stream",
     "text": [
      "100%|██████████| 800/800 [00:32<00:00, 24.49it/s]\n",
      " 19%|█▉        | 12/64 [00:00<00:00, 57.23it/s]"
     ]
    },
    {
     "name": "stdout",
     "output_type": "stream",
     "text": [
      "<bheeshmudini>???????????????? 30 : <భీష్ముడిని>?????????????????? 30 :\n",
      "<bheeshmudini>???????????????? 30 : <భీష్ముడిని>?????????????????? 30 :\n",
      "30\n"
     ]
    },
    {
     "name": "stderr",
     "output_type": "stream",
     "text": [
      "100%|██████████| 64/64 [00:01<00:00, 57.66it/s]\n"
     ]
    },
    {
     "name": "stdout",
     "output_type": "stream",
     "text": [
      "Epoch 27, Loss: 0.1779962101976078\n",
      "train_acc 161.015625\n",
      "train_loss 0.1779962101976078\n",
      "valid_acc 11.875\n",
      "valid_loss 0.18756568580865865\n"
     ]
    },
    {
     "name": "stderr",
     "output_type": "stream",
     "text": [
      "  0%|          | 3/800 [00:00<00:34, 22.97it/s]"
     ]
    },
    {
     "name": "stdout",
     "output_type": "stream",
     "text": [
      "<sinimaakunnapradhaana>??????? 30 : <సినిమాకున్నప్రధాన>??????????? 30 :\n",
      "<sinimaakunnapradhaana>??????? 30 : <సినిమాన్కృతు్్ాంన>??????????? 30 :\n"
     ]
    },
    {
     "name": "stderr",
     "output_type": "stream",
     "text": [
      "100%|██████████| 800/800 [00:32<00:00, 24.56it/s]\n",
      " 19%|█▉        | 12/64 [00:00<00:00, 58.06it/s]"
     ]
    },
    {
     "name": "stdout",
     "output_type": "stream",
     "text": [
      "<bheeshmudini>???????????????? 30 : <భీష్ముడిని>?????????????????? 30 :\n",
      "<bheeshmudini>???????????????? 30 : <భీష్ముడిని>?????????????????? 30 :\n",
      "30\n"
     ]
    },
    {
     "name": "stderr",
     "output_type": "stream",
     "text": [
      "100%|██████████| 64/64 [00:01<00:00, 57.12it/s]\n"
     ]
    },
    {
     "name": "stdout",
     "output_type": "stream",
     "text": [
      "Epoch 28, Loss: 0.1739921528299649\n",
      "train_acc 161.859375\n",
      "train_loss 0.1739921528299649\n",
      "valid_acc 12.046875\n",
      "valid_loss 0.1853399336338043\n"
     ]
    },
    {
     "name": "stderr",
     "output_type": "stream",
     "text": [
      "  0%|          | 3/800 [00:00<00:37, 21.39it/s]"
     ]
    },
    {
     "name": "stdout",
     "output_type": "stream",
     "text": [
      "<domongo>????????????????????? 30 : <డొమొంగో>????????????????????? 30 :\n",
      "<domongo>????????????????????? 30 : <డోమోంగో>????????????????????? 30 :\n"
     ]
    },
    {
     "name": "stderr",
     "output_type": "stream",
     "text": [
      "100%|██████████| 800/800 [00:32<00:00, 24.34it/s]\n",
      " 19%|█▉        | 12/64 [00:00<00:00, 56.20it/s]"
     ]
    },
    {
     "name": "stdout",
     "output_type": "stream",
     "text": [
      "<bheeshmudini>???????????????? 30 : <భీష్ముడిని>?????????????????? 30 :\n",
      "<bheeshmudini>???????????????? 30 : <భీష్ముడిని>?????????????????? 30 :\n",
      "30\n"
     ]
    },
    {
     "name": "stderr",
     "output_type": "stream",
     "text": [
      "100%|██████████| 64/64 [00:01<00:00, 56.35it/s]\n"
     ]
    },
    {
     "name": "stdout",
     "output_type": "stream",
     "text": [
      "Epoch 29, Loss: 0.1700886950592201\n",
      "train_acc 164.859375\n",
      "train_loss 0.1700886950592201\n",
      "valid_acc 12.5625\n",
      "valid_loss 0.19348663998146853\n"
     ]
    },
    {
     "name": "stderr",
     "output_type": "stream",
     "text": [
      "  0%|          | 3/800 [00:00<00:32, 24.18it/s]"
     ]
    },
    {
     "name": "stdout",
     "output_type": "stream",
     "text": [
      "<gunjevaru>??????????????????? 30 : <గుంజేవారు>??????????????????? 30 :\n",
      "<gunjevaru>??????????????????? 30 : <గుంజేవరుు>??????????????????? 30 :\n"
     ]
    },
    {
     "name": "stderr",
     "output_type": "stream",
     "text": [
      "100%|██████████| 800/800 [00:32<00:00, 24.32it/s]\n",
      " 19%|█▉        | 12/64 [00:00<00:00, 57.48it/s]"
     ]
    },
    {
     "name": "stdout",
     "output_type": "stream",
     "text": [
      "<bheeshmudini>???????????????? 30 : <భీష్ముడిని>?????????????????? 30 :\n",
      "<bheeshmudini>???????????????? 30 : <భీష్ముడిని>?????????????????? 30 :\n",
      "30\n"
     ]
    },
    {
     "name": "stderr",
     "output_type": "stream",
     "text": [
      "100%|██████████| 64/64 [00:01<00:00, 58.55it/s]\n"
     ]
    },
    {
     "name": "stdout",
     "output_type": "stream",
     "text": [
      "Epoch 30, Loss: 0.1673055734435718\n",
      "train_acc 167.921875\n",
      "train_loss 0.1673055734435718\n",
      "valid_acc 12.59375\n",
      "valid_loss 0.17836805259188018\n"
     ]
    },
    {
     "name": "stderr",
     "output_type": "stream",
     "text": [
      "  0%|          | 3/800 [00:00<00:33, 23.49it/s]"
     ]
    },
    {
     "name": "stdout",
     "output_type": "stream",
     "text": [
      "<bouddhaanide>???????????????? 30 : <బౌద్ధానిదే>?????????????????? 30 :\n",
      "<bouddhaanide>???????????????? 30 : <బౌద్ధానిదే>?????????????????? 30 :\n"
     ]
    },
    {
     "name": "stderr",
     "output_type": "stream",
     "text": [
      "100%|██████████| 800/800 [00:33<00:00, 24.22it/s]\n",
      "  9%|▉         | 6/64 [00:00<00:01, 52.46it/s]"
     ]
    },
    {
     "name": "stdout",
     "output_type": "stream",
     "text": [
      "<bheeshmudini>???????????????? 30 : <భీష్ముడిని>?????????????????? 30 :\n",
      "<bheeshmudini>???????????????? 30 : <భీష్ముడిని>?????????????????? 30 :\n",
      "30\n"
     ]
    },
    {
     "name": "stderr",
     "output_type": "stream",
     "text": [
      "100%|██████████| 64/64 [00:01<00:00, 55.71it/s]\n"
     ]
    },
    {
     "name": "stdout",
     "output_type": "stream",
     "text": [
      "Epoch 31, Loss: 0.1646602650086084\n",
      "train_acc 170.46875\n",
      "train_loss 0.1646602650086084\n",
      "valid_acc 12.578125\n",
      "valid_loss 0.17908979604641595\n"
     ]
    },
    {
     "name": "stderr",
     "output_type": "stream",
     "text": [
      "  0%|          | 3/800 [00:00<00:33, 24.14it/s]"
     ]
    },
    {
     "name": "stdout",
     "output_type": "stream",
     "text": [
      "<jeevamlenivaarigaa>?????????? 30 : <జీవంలేనివారిగా>?????????????? 30 :\n",
      "<jeevamlenivaarigaa>?????????? 30 : <జీవంలేనివారిగా>?????????????? 30 :\n"
     ]
    },
    {
     "name": "stderr",
     "output_type": "stream",
     "text": [
      "100%|██████████| 800/800 [00:32<00:00, 24.54it/s]\n",
      " 19%|█▉        | 12/64 [00:00<00:00, 58.21it/s]"
     ]
    },
    {
     "name": "stdout",
     "output_type": "stream",
     "text": [
      "<bheeshmudini>???????????????? 30 : <భీష్ముడిని>?????????????????? 30 :\n",
      "<bheeshmudini>???????????????? 30 : <భీష్ముడిని>?????????????????? 30 :\n",
      "30\n"
     ]
    },
    {
     "name": "stderr",
     "output_type": "stream",
     "text": [
      "100%|██████████| 64/64 [00:01<00:00, 57.83it/s]\n"
     ]
    },
    {
     "name": "stdout",
     "output_type": "stream",
     "text": [
      "Epoch 32, Loss: 0.16131161974867184\n",
      "train_acc 175.390625\n",
      "train_loss 0.16131161974867184\n",
      "valid_acc 12.0\n",
      "valid_loss 0.18811318303147945\n"
     ]
    },
    {
     "name": "stderr",
     "output_type": "stream",
     "text": [
      "  0%|          | 3/800 [00:00<00:33, 23.93it/s]"
     ]
    },
    {
     "name": "stdout",
     "output_type": "stream",
     "text": [
      "<bommalakoluvunu>????????????? 30 : <బొమ్మలకొలువును>?????????????? 30 :\n",
      "<bommalakoluvunu>????????????? 30 : <బొమ్మలకోలునును>?????????????? 30 :\n"
     ]
    },
    {
     "name": "stderr",
     "output_type": "stream",
     "text": [
      "100%|██████████| 800/800 [00:32<00:00, 24.56it/s]\n",
      "  9%|▉         | 6/64 [00:00<00:01, 56.95it/s]"
     ]
    },
    {
     "name": "stdout",
     "output_type": "stream",
     "text": [
      "<bheeshmudini>???????????????? 30 : <భీష్ముడిని>?????????????????? 30 :\n",
      "<bheeshmudini>???????????????? 30 : <భీష్ముడిని>?????????????????? 30 :\n",
      "30\n"
     ]
    },
    {
     "name": "stderr",
     "output_type": "stream",
     "text": [
      "100%|██████████| 64/64 [00:01<00:00, 58.16it/s]\n"
     ]
    },
    {
     "name": "stdout",
     "output_type": "stream",
     "text": [
      "Epoch 33, Loss: 0.16126313274105375\n",
      "train_acc 175.796875\n",
      "train_loss 0.16126313274105375\n",
      "valid_acc 12.203125\n",
      "valid_loss 0.1896571775277455\n"
     ]
    },
    {
     "name": "stderr",
     "output_type": "stream",
     "text": [
      "  0%|          | 3/800 [00:00<00:32, 24.32it/s]"
     ]
    },
    {
     "name": "stdout",
     "output_type": "stream",
     "text": [
      "<refreshed>??????????????????? 30 : <రిఫ్రెష్డ్>?????????????????? 30 :\n",
      "<refreshed>??????????????????? 30 : <రెఫ్రెషెడ్>?????????????????? 30 :\n"
     ]
    },
    {
     "name": "stderr",
     "output_type": "stream",
     "text": [
      "100%|██████████| 800/800 [00:32<00:00, 24.52it/s]\n",
      " 19%|█▉        | 12/64 [00:00<00:00, 56.94it/s]"
     ]
    },
    {
     "name": "stdout",
     "output_type": "stream",
     "text": [
      "<bheeshmudini>???????????????? 30 : <భీష్ముడిని>?????????????????? 30 :\n",
      "<bheeshmudini>???????????????? 30 : <భీష్ముడిని>?????????????????? 30 :\n",
      "30\n"
     ]
    },
    {
     "name": "stderr",
     "output_type": "stream",
     "text": [
      "100%|██████████| 64/64 [00:01<00:00, 57.25it/s]\n"
     ]
    },
    {
     "name": "stdout",
     "output_type": "stream",
     "text": [
      "Epoch 34, Loss: 0.15667823701103528\n",
      "train_acc 177.6875\n",
      "train_loss 0.15667823701103528\n",
      "valid_acc 12.625\n",
      "valid_loss 0.1828343988706668\n"
     ]
    },
    {
     "name": "stderr",
     "output_type": "stream",
     "text": [
      "  0%|          | 3/800 [00:00<00:35, 22.71it/s]"
     ]
    },
    {
     "name": "stdout",
     "output_type": "stream",
     "text": [
      "<ucchubigiste>???????????????? 30 : <ఉచ్చుబిగిస్తే>??????????????? 30 :\n",
      "<ucchubigiste>???????????????? 30 : <ఉచ్చుబిగిస్తే>??????????????? 30 :\n"
     ]
    },
    {
     "name": "stderr",
     "output_type": "stream",
     "text": [
      "100%|██████████| 800/800 [00:32<00:00, 24.24it/s]\n",
      " 19%|█▉        | 12/64 [00:00<00:00, 57.48it/s]"
     ]
    },
    {
     "name": "stdout",
     "output_type": "stream",
     "text": [
      "<bheeshmudini>???????????????? 30 : <భీష్ముడిని>?????????????????? 30 :\n",
      "<bheeshmudini>???????????????? 30 : <భీష్ముడిని>?????????????????? 30 :\n",
      "30\n"
     ]
    },
    {
     "name": "stderr",
     "output_type": "stream",
     "text": [
      "100%|██████████| 64/64 [00:01<00:00, 58.56it/s]\n"
     ]
    },
    {
     "name": "stdout",
     "output_type": "stream",
     "text": [
      "Epoch 35, Loss: 0.15379005957643185\n",
      "train_acc 180.390625\n",
      "train_loss 0.15379005957643185\n",
      "valid_acc 12.578125\n",
      "valid_loss 0.18185124546289447\n"
     ]
    },
    {
     "name": "stderr",
     "output_type": "stream",
     "text": [
      "  0%|          | 3/800 [00:00<00:33, 23.65it/s]"
     ]
    },
    {
     "name": "stdout",
     "output_type": "stream",
     "text": [
      "<naishturyam>????????????????? 30 : <నైష్ఠుర్యం>?????????????????? 30 :\n",
      "<naishturyam>????????????????? 30 : <నైష్టుర్యం>?????????????????? 30 :\n"
     ]
    },
    {
     "name": "stderr",
     "output_type": "stream",
     "text": [
      "100%|██████████| 800/800 [00:32<00:00, 24.33it/s]\n",
      " 19%|█▉        | 12/64 [00:00<00:00, 59.80it/s]"
     ]
    },
    {
     "name": "stdout",
     "output_type": "stream",
     "text": [
      "<bheeshmudini>???????????????? 30 : <భీష్ముడిని>?????????????????? 30 :\n",
      "<bheeshmudini>???????????????? 30 : <భీష్ముడిని>?????????????????? 30 :\n",
      "30\n"
     ]
    },
    {
     "name": "stderr",
     "output_type": "stream",
     "text": [
      "100%|██████████| 64/64 [00:01<00:00, 57.94it/s]\n"
     ]
    },
    {
     "name": "stdout",
     "output_type": "stream",
     "text": [
      "Epoch 36, Loss: 0.15345506447553647\n",
      "train_acc 182.453125\n",
      "train_loss 0.15345506447553647\n",
      "valid_acc 12.484375\n",
      "valid_loss 0.18497370307644204\n"
     ]
    },
    {
     "name": "stderr",
     "output_type": "stream",
     "text": [
      "  0%|          | 3/800 [00:00<00:34, 23.09it/s]"
     ]
    },
    {
     "name": "stdout",
     "output_type": "stream",
     "text": [
      "<dabbunnolle>????????????????? 30 : <డబ్బున్నోళ్లే>??????????????? 30 :\n",
      "<dabbunnolle>????????????????? 30 : <డబ్బున్నోళ్ళే>??????????????? 30 :\n"
     ]
    },
    {
     "name": "stderr",
     "output_type": "stream",
     "text": [
      "100%|██████████| 800/800 [00:32<00:00, 24.35it/s]\n",
      "  9%|▉         | 6/64 [00:00<00:01, 56.02it/s]"
     ]
    },
    {
     "name": "stdout",
     "output_type": "stream",
     "text": [
      "<bheeshmudini>???????????????? 30 : <భీష్ముడిని>?????????????????? 30 :\n",
      "<bheeshmudini>???????????????? 30 : <భీస్ముడిని>?????????????????? 30 :\n",
      "29\n"
     ]
    },
    {
     "name": "stderr",
     "output_type": "stream",
     "text": [
      "100%|██████████| 64/64 [00:01<00:00, 58.25it/s]\n"
     ]
    },
    {
     "name": "stdout",
     "output_type": "stream",
     "text": [
      "Epoch 37, Loss: 0.15244460306564953\n",
      "train_acc 181.53125\n",
      "train_loss 0.15244460306564953\n",
      "valid_acc 12.671875\n",
      "valid_loss 0.1838378199686606\n"
     ]
    },
    {
     "name": "stderr",
     "output_type": "stream",
     "text": [
      "  0%|          | 3/800 [00:00<00:34, 23.06it/s]"
     ]
    },
    {
     "name": "stdout",
     "output_type": "stream",
     "text": [
      "<geeyadamloonuu>?????????????? 30 : <గీయడంలోనూ>??????????????????? 30 :\n",
      "<geeyadamloonuu>?????????????? 30 : <గీయడంలోనూ>??????????????????? 30 :\n"
     ]
    },
    {
     "name": "stderr",
     "output_type": "stream",
     "text": [
      "100%|██████████| 800/800 [00:32<00:00, 24.36it/s]\n",
      " 19%|█▉        | 12/64 [00:00<00:00, 59.16it/s]"
     ]
    },
    {
     "name": "stdout",
     "output_type": "stream",
     "text": [
      "<bheeshmudini>???????????????? 30 : <భీష్ముడిని>?????????????????? 30 :\n",
      "<bheeshmudini>???????????????? 30 : <భీష్ముడిని>?????????????????? 30 :\n",
      "30\n"
     ]
    },
    {
     "name": "stderr",
     "output_type": "stream",
     "text": [
      "100%|██████████| 64/64 [00:01<00:00, 57.58it/s]\n"
     ]
    },
    {
     "name": "stdout",
     "output_type": "stream",
     "text": [
      "Epoch 38, Loss: 0.14857723800341296\n",
      "train_acc 183.296875\n",
      "train_loss 0.14857723800341296\n",
      "valid_acc 12.59375\n",
      "valid_loss 0.1765669127305349\n"
     ]
    },
    {
     "name": "stderr",
     "output_type": "stream",
     "text": [
      "  0%|          | 3/800 [00:00<00:35, 22.27it/s]"
     ]
    },
    {
     "name": "stdout",
     "output_type": "stream",
     "text": [
      "<haridri>????????????????????? 30 : <హరిద్రి>????????????????????? 30 :\n",
      "<haridri>????????????????????? 30 : <హరిద్రి>????????????????????? 30 :\n"
     ]
    },
    {
     "name": "stderr",
     "output_type": "stream",
     "text": [
      "100%|██████████| 800/800 [00:32<00:00, 24.25it/s]\n",
      "  9%|▉         | 6/64 [00:00<00:01, 53.86it/s]"
     ]
    },
    {
     "name": "stdout",
     "output_type": "stream",
     "text": [
      "<bheeshmudini>???????????????? 30 : <భీష్ముడిని>?????????????????? 30 :\n",
      "<bheeshmudini>???????????????? 30 : <భీస్ముడిని>?????????????????? 30 :\n",
      "29\n"
     ]
    },
    {
     "name": "stderr",
     "output_type": "stream",
     "text": [
      "100%|██████████| 64/64 [00:01<00:00, 56.34it/s]\n"
     ]
    },
    {
     "name": "stdout",
     "output_type": "stream",
     "text": [
      "Epoch 39, Loss: 0.14557578601439786\n",
      "train_acc 186.296875\n",
      "train_loss 0.14557578601439786\n",
      "valid_acc 12.25\n",
      "valid_loss 0.18604146167635924\n"
     ]
    },
    {
     "name": "stderr",
     "output_type": "stream",
     "text": [
      "  0%|          | 3/800 [00:00<00:33, 23.79it/s]"
     ]
    },
    {
     "name": "stdout",
     "output_type": "stream",
     "text": [
      "<yintivaaritho>??????????????? 30 : <యింటివారితో>????????????????? 30 :\n",
      "<yintivaaritho>??????????????? 30 : <యింటివారితో>????????????????? 30 :\n"
     ]
    },
    {
     "name": "stderr",
     "output_type": "stream",
     "text": [
      "100%|██████████| 800/800 [00:32<00:00, 24.25it/s]\n",
      "  9%|▉         | 6/64 [00:00<00:00, 59.91it/s]"
     ]
    },
    {
     "name": "stdout",
     "output_type": "stream",
     "text": [
      "<bheeshmudini>???????????????? 30 : <భీష్ముడిని>?????????????????? 30 :\n",
      "<bheeshmudini>???????????????? 30 : <భీష్ముడిని>?????????????????? 30 :\n",
      "30\n"
     ]
    },
    {
     "name": "stderr",
     "output_type": "stream",
     "text": [
      "100%|██████████| 64/64 [00:01<00:00, 58.51it/s]\n"
     ]
    },
    {
     "name": "stdout",
     "output_type": "stream",
     "text": [
      "Epoch 40, Loss: 0.14579337597390019\n",
      "train_acc 188.5625\n",
      "train_loss 0.14579337597390019\n",
      "valid_acc 12.765625\n",
      "valid_loss 0.18919867364068826\n"
     ]
    },
    {
     "name": "stderr",
     "output_type": "stream",
     "text": [
      "\u001b[34m\u001b[1mwandb\u001b[0m:                                                                                \n",
      "\u001b[34m\u001b[1mwandb\u001b[0m: \n",
      "\u001b[34m\u001b[1mwandb\u001b[0m: Run history:\n",
      "\u001b[34m\u001b[1mwandb\u001b[0m: train_accuracy ▁▁▁▁▁▂▂▃▃▄▄▄▅▅▅▅▆▆▆▆▆▆▇▇▇▇▇▇▇▇▇█████████\n",
      "\u001b[34m\u001b[1mwandb\u001b[0m:     train_loss █▆▅▅▄▃▃▃▂▂▂▂▂▂▂▂▂▂▁▁▁▁▁▁▁▁▁▁▁▁▁▁▁▁▁▁▁▁▁▁\n",
      "\u001b[34m\u001b[1mwandb\u001b[0m:   val_accuracy ▁▁▁▁▂▃▄▄▅▅▆▆▆▆▆▇▇▇▇▇▇▇▇█▇███████████████\n",
      "\u001b[34m\u001b[1mwandb\u001b[0m:       val_loss █▇▆▅▄▃▃▂▂▂▂▂▂▁▂▁▁▁▁▁▁▁▁▁▁▁▁▁▁▁▁▁▁▁▁▁▁▁▁▁\n",
      "\u001b[34m\u001b[1mwandb\u001b[0m: \n",
      "\u001b[34m\u001b[1mwandb\u001b[0m: Run summary:\n",
      "\u001b[34m\u001b[1mwandb\u001b[0m: train_accuracy 188.5625\n",
      "\u001b[34m\u001b[1mwandb\u001b[0m:     train_loss 0.14579\n",
      "\u001b[34m\u001b[1mwandb\u001b[0m:   val_accuracy 12.76562\n",
      "\u001b[34m\u001b[1mwandb\u001b[0m:       val_loss 0.1892\n",
      "\u001b[34m\u001b[1mwandb\u001b[0m: \n",
      "\u001b[34m\u001b[1mwandb\u001b[0m: 🚀 View run \u001b[33mcrisp-sweep-1\u001b[0m at: \u001b[34m\u001b[4mhttps://wandb.ai/cs23m005/Assignment3/runs/x0vnxw4p\u001b[0m\n",
      "\u001b[34m\u001b[1mwandb\u001b[0m: ⭐️ View project at: \u001b[34m\u001b[4mhttps://wandb.ai/cs23m005/Assignment3\u001b[0m\n",
      "\u001b[34m\u001b[1mwandb\u001b[0m: Synced 5 W&B file(s), 0 media file(s), 0 artifact file(s) and 0 other file(s)\n",
      "\u001b[34m\u001b[1mwandb\u001b[0m: Find logs at: \u001b[35m\u001b[1m./wandb/run-20240516_103041-x0vnxw4p/logs\u001b[0m\n"
     ]
    }
   ],
   "source": [
    "def main_fun():\n",
    "    wandb.init(project ='Assignment3')\n",
    "    params = wandb.config\n",
    "    with wandb.init(project = 'Assignment3', name='epochs_'+str(params.num_epochs) \n",
    "                    +'layers_'+str(params.num_layers) + 'embedding_'+str(params.embedding_size)\n",
    "                    +'hidden_size_'+str(params.hidden_size) + 'cell_type_'+str(params.cell_type)\n",
    "                    +'lear_rate_'+str(params.learning_rate) + 'batch_size'+str(params.batch_size)\n",
    "                    + 'optim_'+str(params.optimizer) + 'dropout_'+str(params.dropout_in)) as run:\n",
    "        train(params.hidden_size,params.embedding_size,\n",
    "              params.num_layers, params.cell_type, params.learning_rate, \n",
    "              params.num_epochs, params.batch_size,params.optimizer, params.dropout_in)\n",
    "\n",
    "sweep_params = {\n",
    "    'method' : 'bayes',\n",
    "    'name'   : 'cs23m005',\n",
    "    'metric' : {\n",
    "        'goal' : 'maximize',\n",
    "        'name' : 'val_accuracy',\n",
    "    },\n",
    "    'parameters' : {\n",
    "            'num_epochs':{'values':[20,30,40]},\n",
    "            'learning_rate' :{'values':[1e-4, 1e-3]},\n",
    "            'num_layers' :{'values':[1,2,3]},\n",
    "            'embedding_size' :{'values':[64,128,256]},\n",
    "            'hidden_size' :{'values':[64,128,256]},\n",
    "            'cell_type' :{'values':['LSTM', 'GRU', 'RNN']},\n",
    "            'batch_size' :{'values':[64,32,128]},\n",
    "            'optimizer' :{'values':['adam','nadam']},\n",
    "            'dropout_in' :{'values':[0.2,0.3,0.5]}\n",
    "            \n",
    "    }\n",
    "}\n",
    "sweepId = wandb.sweep(sweep_params,project = 'Assignment3')\n",
    "wandb.agent(sweepId,function =main_fun,count = 1)\n",
    "wandb.finish()"
   ]
  }
 ],
 "metadata": {
  "kaggle": {
   "accelerator": "nvidiaTeslaT4",
   "dataSources": [
    {
     "datasetId": 4923053,
     "sourceId": 8288224,
     "sourceType": "datasetVersion"
    }
   ],
   "dockerImageVersionId": 30698,
   "isGpuEnabled": true,
   "isInternetEnabled": true,
   "language": "python",
   "sourceType": "notebook"
  },
  "kernelspec": {
   "display_name": "Python 3",
   "language": "python",
   "name": "python3"
  },
  "language_info": {
   "codemirror_mode": {
    "name": "ipython",
    "version": 3
   },
   "file_extension": ".py",
   "mimetype": "text/x-python",
   "name": "python",
   "nbconvert_exporter": "python",
   "pygments_lexer": "ipython3",
   "version": "3.10.13"
  },
  "papermill": {
   "default_parameters": {},
   "duration": 1411.011064,
   "end_time": "2024-05-16T10:53:40.968237",
   "environment_variables": {},
   "exception": null,
   "input_path": "__notebook__.ipynb",
   "output_path": "__notebook__.ipynb",
   "parameters": {},
   "start_time": "2024-05-16T10:30:09.957173",
   "version": "2.5.0"
  }
 },
 "nbformat": 4,
 "nbformat_minor": 5
}
